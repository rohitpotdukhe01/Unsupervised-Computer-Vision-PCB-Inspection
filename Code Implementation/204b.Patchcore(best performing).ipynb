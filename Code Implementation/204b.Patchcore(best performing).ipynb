{
  "cells": [
    {
      "attachments": {},
      "cell_type": "markdown",
      "source": [
        "# Installing Anomalib\n",
        "\n",
        "To install anomalib with the required dependencies, please follow the steps under `Install from source` [on GitHub](https://github.com/openvinotoolkit/anomalib?tab=readme-ov-file#-installation)."
      ],
      "metadata": {}
    },
    {
      "attachments": {},
      "cell_type": "markdown",
      "source": [
        "## Imports\n"
      ],
      "metadata": {}
    },
    {
      "cell_type": "code",
      "source": [
        "# NOTE: Provide the path to the dataset root directory.\n",
        "#   If the datasets is not downloaded, it will be downloaded\n",
        "#   to this directory.\n",
        "dataset_root = \"/home/azureuser/cloudfiles/code/Users/rohit.potdukhe/Package6941_modified\""
      ],
      "outputs": [],
      "execution_count": 1,
      "metadata": {
        "gather": {
          "logged": 1719157258140
        },
        "jupyter": {
          "outputs_hidden": false,
          "source_hidden": false
        },
        "nteract": {
          "transient": {
            "deleting": false
          }
        }
      }
    },
    {
      "cell_type": "code",
      "source": [
        "from lightning.pytorch.callbacks import EarlyStopping, ModelCheckpoint\n",
        "from matplotlib import pyplot as plt\n",
        "from PIL import Image\n",
        "from IPython.display import display\n",
        "import torch\n",
        "from pathlib import Path\n",
        "\n",
        "from anomalib.data import PredictDataset, Folder\n",
        "from anomalib.engine import Engine\n",
        "from anomalib.models import Patchcore\n",
        "from anomalib import TaskType\n",
        "from anomalib.loggers import AnomalibTensorBoardLogger\n",
        "from anomalib.data.utils import read_image\n",
        "from anomalib.deploy import OpenVINOInferencer\n",
        "from anomalib.utils.normalization import NormalizationMethod\n",
        "import os, pprint, yaml, warnings, math, glob, cv2, random, logging\n",
        "%matplotlib inline\n",
        "torch.cuda.empty_cache()"
      ],
      "outputs": [],
      "execution_count": 2,
      "metadata": {
        "ExecuteTime": {
          "end_time": "2024-01-12T16:55:35.855912923Z",
          "start_time": "2024-01-12T16:55:30.140865729Z"
        },
        "gather": {
          "logged": 1719157273127
        }
      }
    },
    {
      "attachments": {},
      "cell_type": "markdown",
      "source": [
        "### Dataset\n",
        "\n",
        "Prepare your own dataset for normal and defect pieces.\n"
      ],
      "metadata": {}
    },
    {
      "cell_type": "code",
      "source": [
        "datamodule = Folder(\n",
        "    name=\"ipig_package6941_modified\",\n",
        "    root= dataset_root,\n",
        "    normal_dir=\"train/FC\",\n",
        "    abnormal_dir=\"train/NG\",\n",
        "    # val_path=Path.cwd() / \"images\" / \"val\",\n",
        "    normal_split_ratio=0.2,\n",
        "    image_size=(256, 256),\n",
        "    train_batch_size=16,\n",
        "    eval_batch_size=16,\n",
        "    task=TaskType.CLASSIFICATION,\n",
        "    num_workers=0\n",
        ")\n",
        "datamodule.setup()\n",
        "datamodule.prepare_data()\n",
        "\n",
        "i, data = next(enumerate(datamodule.test_dataloader()))\n",
        "print(data[\"image\"].shape)"
      ],
      "outputs": [
        {
          "output_type": "stream",
          "name": "stdout",
          "text": "torch.Size([16, 3, 256, 256])\n"
        }
      ],
      "execution_count": 3,
      "metadata": {
        "ExecuteTime": {
          "end_time": "2024-01-12T16:55:40.725983993Z",
          "start_time": "2024-01-12T16:55:40.274675101Z"
        },
        "gather": {
          "logged": 1719157273912
        }
      }
    },
    {
      "attachments": {},
      "cell_type": "markdown",
      "source": [
        "## Model\n",
        "\n",
        "`anomalib` supports a wide range of unsupervised anomaly detection models. The table in this [link](https://anomalib.readthedocs.io/en/latest/markdown/guides/reference/models/image/index.html) shows the list of models currently supported by `anomalib` library.\n"
      ],
      "metadata": {}
    },
    {
      "attachments": {},
      "cell_type": "markdown",
      "source": [
        "### Prepare the Model\n",
        "\n"
      ],
      "metadata": {}
    },
    {
      "cell_type": "code",
      "source": [
        "#ResNet50, WideResNet50, ResNet101, WideResNet101, ResNeXt101\n",
        "#wide_resnet50_2. Available layers: ['act1', 'layer1', 'layer2', 'layer3', 'layer4']\n",
        "model = Patchcore(\n",
        "    backbone=\"wide_resnet50_2\", \n",
        "    layers=[\"act1\"]\n",
        ")"
      ],
      "outputs": [],
      "execution_count": 4,
      "metadata": {
        "ExecuteTime": {
          "end_time": "2024-01-12T16:55:41.184026691Z",
          "start_time": "2024-01-12T16:55:40.731669374Z"
        },
        "gather": {
          "logged": 1719157275532
        }
      }
    },
    {
      "attachments": {},
      "cell_type": "markdown",
      "source": [
        "## Training\n",
        "\n",
        "Now that we set up the datamodule and model, we could now train the model.\n",
        "\n",
        "The final component to train the model is `Engine` object, which handles train/test/predict/export pipeline. Let's create the engine object to train the model.\n"
      ],
      "metadata": {}
    },
    {
      "cell_type": "code",
      "source": [
        "engine = Engine(\n",
        "    normalization=NormalizationMethod.MIN_MAX,\n",
        "    threshold=\"F1AdaptiveThreshold\",\n",
        "    task=TaskType.CLASSIFICATION,\n",
        "    image_metrics=[\"AUROC\", \"F1Score\"],\n",
        "    accelerator=\"cpu\",\n",
        "    check_val_every_n_epoch=1,\n",
        "    devices='auto',\n",
        "    max_epochs=1,\n",
        "    num_sanity_val_steps=0,\n",
        "    val_check_interval=1.0,\n",
        ")"
      ],
      "outputs": [],
      "execution_count": 5,
      "metadata": {
        "ExecuteTime": {
          "end_time": "2024-01-12T16:55:45.425314142Z",
          "start_time": "2024-01-12T16:55:41.180954949Z"
        },
        "gather": {
          "logged": 1719157275808
        },
        "scrolled": true
      }
    },
    {
      "cell_type": "code",
      "source": [
        "engine.fit(model=model, datamodule=datamodule)"
      ],
      "outputs": [],
      "execution_count": null,
      "metadata": {
        "jupyter": {
          "source_hidden": false,
          "outputs_hidden": false
        },
        "nteract": {
          "transient": {
            "deleting": false
          }
        },
        "gather": {
          "logged": 1719357756419
        }
      }
    },
    {
      "cell_type": "code",
      "source": [
        "\"\"\"model = Patchcore(\n",
        "    backbone=\"wide_resnet50_2\", \n",
        "    layers=[\"layer2\", \"layer3\"]\n",
        ")\"\"\"\n",
        "\n",
        "test_results = engine.test(model=model, datamodule=datamodule)"
      ],
      "outputs": [
        {
          "output_type": "display_data",
          "data": {
            "text/plain": "\u001b[37mTesting\u001b[0m \u001b[38;2;98;6;224m━━━━━━━━━━━━━━━━━━━━━━━━━━━━━━━━━━━━━━━━\u001b[0m \u001b[37m12/12\u001b[0m \u001b[38;5;245m0:01:52 • 0:00:00\u001b[0m \u001b[38;5;249m0.13it/s\u001b[0m  \n",
            "text/html": "<pre style=\"white-space:pre;overflow-x:auto;line-height:normal;font-family:Menlo,'DejaVu Sans Mono',consolas,'Courier New',monospace\"><span style=\"color: #c0c0c0; text-decoration-color: #c0c0c0\">Testing</span> <span style=\"color: #6206e0; text-decoration-color: #6206e0\">━━━━━━━━━━━━━━━━━━━━━━━━━━━━━━━━━━━━━━━━</span> <span style=\"color: #c0c0c0; text-decoration-color: #c0c0c0\">12/12</span> <span style=\"color: #8a8a8a; text-decoration-color: #8a8a8a\">0:01:52 • 0:00:00</span> <span style=\"color: #b2b2b2; text-decoration-color: #b2b2b2\">0.13it/s</span>  \n</pre>\n"
          },
          "metadata": {}
        },
        {
          "output_type": "display_data",
          "data": {
            "text/plain": "┏━━━━━━━━━━━━━━━━━━━━━━━━━━━┳━━━━━━━━━━━━━━━━━━━━━━━━━━━┓\n┃\u001b[1m \u001b[0m\u001b[1m       Test metric       \u001b[0m\u001b[1m \u001b[0m┃\u001b[1m \u001b[0m\u001b[1m      DataLoader 0       \u001b[0m\u001b[1m \u001b[0m┃\n┡━━━━━━━━━━━━━━━━━━━━━━━━━━━╇━━━━━━━━━━━━━━━━━━━━━━━━━━━┩\n│\u001b[36m \u001b[0m\u001b[36m       image_AUROC       \u001b[0m\u001b[36m \u001b[0m│\u001b[35m \u001b[0m\u001b[35m   0.8816406726837158    \u001b[0m\u001b[35m \u001b[0m│\n│\u001b[36m \u001b[0m\u001b[36m      image_F1Score      \u001b[0m\u001b[36m \u001b[0m│\u001b[35m \u001b[0m\u001b[35m    0.885993480682373    \u001b[0m\u001b[35m \u001b[0m│\n└───────────────────────────┴───────────────────────────┘\n",
            "text/html": "<pre style=\"white-space:pre;overflow-x:auto;line-height:normal;font-family:Menlo,'DejaVu Sans Mono',consolas,'Courier New',monospace\">┏━━━━━━━━━━━━━━━━━━━━━━━━━━━┳━━━━━━━━━━━━━━━━━━━━━━━━━━━┓\n┃<span style=\"font-weight: bold\">        Test metric        </span>┃<span style=\"font-weight: bold\">       DataLoader 0        </span>┃\n┡━━━━━━━━━━━━━━━━━━━━━━━━━━━╇━━━━━━━━━━━━━━━━━━━━━━━━━━━┩\n│<span style=\"color: #008080; text-decoration-color: #008080\">        image_AUROC        </span>│<span style=\"color: #800080; text-decoration-color: #800080\">    0.8816406726837158     </span>│\n│<span style=\"color: #008080; text-decoration-color: #008080\">       image_F1Score       </span>│<span style=\"color: #800080; text-decoration-color: #800080\">     0.885993480682373     </span>│\n└───────────────────────────┴───────────────────────────┘\n</pre>\n"
          },
          "metadata": {}
        },
        {
          "output_type": "display_data",
          "data": {
            "text/plain": "",
            "text/html": "<pre style=\"white-space:pre;overflow-x:auto;line-height:normal;font-family:Menlo,'DejaVu Sans Mono',consolas,'Courier New',monospace\"></pre>\n"
          },
          "metadata": {}
        },
        {
          "output_type": "display_data",
          "data": {
            "text/plain": "\n",
            "text/html": "<pre style=\"white-space:pre;overflow-x:auto;line-height:normal;font-family:Menlo,'DejaVu Sans Mono',consolas,'Courier New',monospace\">\n</pre>\n"
          },
          "metadata": {}
        }
      ],
      "execution_count": 11,
      "metadata": {
        "jupyter": {
          "source_hidden": false,
          "outputs_hidden": false
        },
        "nteract": {
          "transient": {
            "deleting": false
          }
        },
        "gather": {
          "logged": 1718874062668
        }
      }
    },
    {
      "cell_type": "code",
      "source": [
        "\"\"\"model = Patchcore(\n",
        "    backbone=\"wide_resnet50_2\", \n",
        "    layers=[\"act1\"]\n",
        ")\"\"\"\n",
        "\n",
        "test_results = engine.test(model=model, datamodule=datamodule)"
      ],
      "outputs": [],
      "execution_count": null,
      "metadata": {
        "jupyter": {
          "source_hidden": false,
          "outputs_hidden": false
        },
        "nteract": {
          "transient": {
            "deleting": false
          }
        },
        "gather": {
          "logged": 1719357756666
        }
      }
    },
    {
      "cell_type": "code",
      "source": [
        "\"\"\"model = Patchcore(\n",
        "    backbone=\"wide_resnet50_2\", \n",
        "    layers=[\"layer1\", \"layer2\"]\n",
        ")\"\"\"\n",
        "\n",
        "test_results = engine.test(model=model, datamodule=datamodule)"
      ],
      "outputs": [
        {
          "output_type": "display_data",
          "data": {
            "text/plain": "\u001b[37mTesting\u001b[0m \u001b[38;2;98;6;224m━━━━━━━━━━━━━━━━━━━━━━━━━━━━━━━━━━━━━━━━\u001b[0m \u001b[37m12/12\u001b[0m \u001b[38;5;245m0:04:51 • 0:00:00\u001b[0m \u001b[38;5;249m0.04it/s\u001b[0m  \n",
            "text/html": "<pre style=\"white-space:pre;overflow-x:auto;line-height:normal;font-family:Menlo,'DejaVu Sans Mono',consolas,'Courier New',monospace\"><span style=\"color: #c0c0c0; text-decoration-color: #c0c0c0\">Testing</span> <span style=\"color: #6206e0; text-decoration-color: #6206e0\">━━━━━━━━━━━━━━━━━━━━━━━━━━━━━━━━━━━━━━━━</span> <span style=\"color: #c0c0c0; text-decoration-color: #c0c0c0\">12/12</span> <span style=\"color: #8a8a8a; text-decoration-color: #8a8a8a\">0:04:51 • 0:00:00</span> <span style=\"color: #b2b2b2; text-decoration-color: #b2b2b2\">0.04it/s</span>  \n</pre>\n"
          },
          "metadata": {}
        },
        {
          "output_type": "display_data",
          "data": {
            "text/plain": "┏━━━━━━━━━━━━━━━━━━━━━━━━━━━┳━━━━━━━━━━━━━━━━━━━━━━━━━━━┓\n┃\u001b[1m \u001b[0m\u001b[1m       Test metric       \u001b[0m\u001b[1m \u001b[0m┃\u001b[1m \u001b[0m\u001b[1m      DataLoader 0       \u001b[0m\u001b[1m \u001b[0m┃\n┡━━━━━━━━━━━━━━━━━━━━━━━━━━━╇━━━━━━━━━━━━━━━━━━━━━━━━━━━┩\n│\u001b[36m \u001b[0m\u001b[36m       image_AUROC       \u001b[0m\u001b[36m \u001b[0m│\u001b[35m \u001b[0m\u001b[35m   0.9271483421325684    \u001b[0m\u001b[35m \u001b[0m│\n│\u001b[36m \u001b[0m\u001b[36m      image_F1Score      \u001b[0m\u001b[36m \u001b[0m│\u001b[35m \u001b[0m\u001b[35m   0.9433962106704712    \u001b[0m\u001b[35m \u001b[0m│\n└───────────────────────────┴───────────────────────────┘\n",
            "text/html": "<pre style=\"white-space:pre;overflow-x:auto;line-height:normal;font-family:Menlo,'DejaVu Sans Mono',consolas,'Courier New',monospace\">┏━━━━━━━━━━━━━━━━━━━━━━━━━━━┳━━━━━━━━━━━━━━━━━━━━━━━━━━━┓\n┃<span style=\"font-weight: bold\">        Test metric        </span>┃<span style=\"font-weight: bold\">       DataLoader 0        </span>┃\n┡━━━━━━━━━━━━━━━━━━━━━━━━━━━╇━━━━━━━━━━━━━━━━━━━━━━━━━━━┩\n│<span style=\"color: #008080; text-decoration-color: #008080\">        image_AUROC        </span>│<span style=\"color: #800080; text-decoration-color: #800080\">    0.9271483421325684     </span>│\n│<span style=\"color: #008080; text-decoration-color: #008080\">       image_F1Score       </span>│<span style=\"color: #800080; text-decoration-color: #800080\">    0.9433962106704712     </span>│\n└───────────────────────────┴───────────────────────────┘\n</pre>\n"
          },
          "metadata": {}
        },
        {
          "output_type": "display_data",
          "data": {
            "text/plain": "",
            "text/html": "<pre style=\"white-space:pre;overflow-x:auto;line-height:normal;font-family:Menlo,'DejaVu Sans Mono',consolas,'Courier New',monospace\"></pre>\n"
          },
          "metadata": {}
        },
        {
          "output_type": "display_data",
          "data": {
            "text/plain": "\n",
            "text/html": "<pre style=\"white-space:pre;overflow-x:auto;line-height:normal;font-family:Menlo,'DejaVu Sans Mono',consolas,'Courier New',monospace\">\n</pre>\n"
          },
          "metadata": {}
        }
      ],
      "execution_count": 13,
      "metadata": {
        "jupyter": {
          "source_hidden": false,
          "outputs_hidden": false
        },
        "nteract": {
          "transient": {
            "deleting": false
          }
        },
        "gather": {
          "logged": 1718972750095
        }
      }
    },
    {
      "cell_type": "code",
      "source": [
        "\"\"\"model = Patchcore(\n",
        "    backbone=\"wide_resnet50_2\", \n",
        "    layers=[\"layer2\", \"layer3\", \"layer4\"]\n",
        ")\"\"\"\n",
        "\n",
        "test_results = engine.test(model=model, datamodule=datamodule)"
      ],
      "outputs": [
        {
          "output_type": "display_data",
          "data": {
            "text/plain": "\u001b[37mTesting\u001b[0m \u001b[38;2;98;6;224m━━━━━━━━━━━━━━━━━━━━━━━━━━━━━━━━━━━━━━━━\u001b[0m \u001b[37m12/12\u001b[0m \u001b[38;5;245m0:02:34 • 0:00:00\u001b[0m \u001b[38;5;249m0.08it/s\u001b[0m  \n",
            "text/html": "<pre style=\"white-space:pre;overflow-x:auto;line-height:normal;font-family:Menlo,'DejaVu Sans Mono',consolas,'Courier New',monospace\"><span style=\"color: #c0c0c0; text-decoration-color: #c0c0c0\">Testing</span> <span style=\"color: #6206e0; text-decoration-color: #6206e0\">━━━━━━━━━━━━━━━━━━━━━━━━━━━━━━━━━━━━━━━━</span> <span style=\"color: #c0c0c0; text-decoration-color: #c0c0c0\">12/12</span> <span style=\"color: #8a8a8a; text-decoration-color: #8a8a8a\">0:02:34 • 0:00:00</span> <span style=\"color: #b2b2b2; text-decoration-color: #b2b2b2\">0.08it/s</span>  \n</pre>\n"
          },
          "metadata": {}
        },
        {
          "output_type": "display_data",
          "data": {
            "text/plain": "┏━━━━━━━━━━━━━━━━━━━━━━━━━━━┳━━━━━━━━━━━━━━━━━━━━━━━━━━━┓\n┃\u001b[1m \u001b[0m\u001b[1m       Test metric       \u001b[0m\u001b[1m \u001b[0m┃\u001b[1m \u001b[0m\u001b[1m      DataLoader 0       \u001b[0m\u001b[1m \u001b[0m┃\n┡━━━━━━━━━━━━━━━━━━━━━━━━━━━╇━━━━━━━━━━━━━━━━━━━━━━━━━━━┩\n│\u001b[36m \u001b[0m\u001b[36m       image_AUROC       \u001b[0m\u001b[36m \u001b[0m│\u001b[35m \u001b[0m\u001b[35m   0.8806641101837158    \u001b[0m\u001b[35m \u001b[0m│\n│\u001b[36m \u001b[0m\u001b[36m      image_F1Score      \u001b[0m\u001b[36m \u001b[0m│\u001b[35m \u001b[0m\u001b[35m   0.9108280539512634    \u001b[0m\u001b[35m \u001b[0m│\n└───────────────────────────┴───────────────────────────┘\n",
            "text/html": "<pre style=\"white-space:pre;overflow-x:auto;line-height:normal;font-family:Menlo,'DejaVu Sans Mono',consolas,'Courier New',monospace\">┏━━━━━━━━━━━━━━━━━━━━━━━━━━━┳━━━━━━━━━━━━━━━━━━━━━━━━━━━┓\n┃<span style=\"font-weight: bold\">        Test metric        </span>┃<span style=\"font-weight: bold\">       DataLoader 0        </span>┃\n┡━━━━━━━━━━━━━━━━━━━━━━━━━━━╇━━━━━━━━━━━━━━━━━━━━━━━━━━━┩\n│<span style=\"color: #008080; text-decoration-color: #008080\">        image_AUROC        </span>│<span style=\"color: #800080; text-decoration-color: #800080\">    0.8806641101837158     </span>│\n│<span style=\"color: #008080; text-decoration-color: #008080\">       image_F1Score       </span>│<span style=\"color: #800080; text-decoration-color: #800080\">    0.9108280539512634     </span>│\n└───────────────────────────┴───────────────────────────┘\n</pre>\n"
          },
          "metadata": {}
        },
        {
          "output_type": "display_data",
          "data": {
            "text/plain": "",
            "text/html": "<pre style=\"white-space:pre;overflow-x:auto;line-height:normal;font-family:Menlo,'DejaVu Sans Mono',consolas,'Courier New',monospace\"></pre>\n"
          },
          "metadata": {}
        },
        {
          "output_type": "display_data",
          "data": {
            "text/plain": "\n",
            "text/html": "<pre style=\"white-space:pre;overflow-x:auto;line-height:normal;font-family:Menlo,'DejaVu Sans Mono',consolas,'Courier New',monospace\">\n</pre>\n"
          },
          "metadata": {}
        }
      ],
      "execution_count": 24,
      "metadata": {
        "jupyter": {
          "source_hidden": false,
          "outputs_hidden": false
        },
        "nteract": {
          "transient": {
            "deleting": false
          }
        },
        "gather": {
          "logged": 1718975030468
        }
      }
    },
    {
      "cell_type": "code",
      "source": [
        "from anomalib.deploy import ExportType\n",
        "\n",
        "export_root = Path.cwd() / 'patchCore_WRN50_weights'\n",
        "\n",
        "export_root.mkdir(parents=True, exist_ok=True)\n",
        "\n",
        "# Exporting model to OpenVINO\n",
        "openvino_model_path = engine.export(\n",
        "    model=model,\n",
        "    export_type=ExportType.OPENVINO,\n",
        "    export_root=str(export_root),\n",
        ")"
      ],
      "outputs": [],
      "execution_count": null,
      "metadata": {
        "ExecuteTime": {
          "end_time": "2024-01-12T16:55:48.906878137Z",
          "start_time": "2024-01-12T16:55:46.673514722Z"
        },
        "collapsed": false,
        "gather": {
          "logged": 1719357756684
        },
        "jupyter": {
          "outputs_hidden": true
        }
      }
    },
    {
      "attachments": {},
      "cell_type": "markdown",
      "source": [
        "## OpenVINO Inference\n",
        "\n",
        "Now that we trained and tested a model, we could check a single inference result using OpenVINO inferencer object. This will demonstrate how a trained model could be used for inference.\n"
      ],
      "metadata": {}
    },
    {
      "cell_type": "markdown",
      "source": [
        "## Prediction on all images"
      ],
      "metadata": {}
    },
    {
      "cell_type": "code",
      "source": [
        "def inference(dataset_path, label):\n",
        "    \n",
        "    predictions = []\n",
        "\n",
        "    image_paths = list(dataset_path.glob(\"**/*.jpg\"))\n",
        "\n",
        "    for image_path in image_paths:\n",
        "        image = read_image(image_path)\n",
        "\n",
        "        prediction = inferencer.predict(image=image)\n",
        "        predictions.append((image_path, prediction, label))\n",
        "    \n",
        "    return predictions"
      ],
      "outputs": [],
      "execution_count": 27,
      "metadata": {
        "gather": {
          "logged": 1718976354520
        }
      }
    },
    {
      "cell_type": "code",
      "source": [
        "def process_all_predictions(normal_predictions, abnormal_predictions):\n",
        "    all_predictions = []\n",
        "    all_labels = []\n",
        "    misclassified_files = []\n",
        "\n",
        "    # Process normal predictions\n",
        "    for file_path, image_result, _ in normal_predictions:\n",
        "        pred_label = 1 if image_result.pred_label else 0\n",
        "        all_predictions.append(pred_label)\n",
        "        all_labels.append(0)  # 0 for normal\n",
        "        if pred_label != 0:\n",
        "            misclassified_files.append((file_path, 'Normal', 'Predicted as Abnormal'))\n",
        "\n",
        "    # Process abnormal predictions\n",
        "    for file_path, image_result, _ in abnormal_predictions:\n",
        "        pred_label = 1 if image_result.pred_label else 0\n",
        "        all_predictions.append(pred_label)\n",
        "        all_labels.append(1)  # 1 for abnormal\n",
        "        if pred_label != 1:\n",
        "            misclassified_files.append((file_path, 'Abnormal', 'Predicted as Normal'))\n",
        "        \n",
        "    return all_predictions, all_labels, misclassified_files"
      ],
      "outputs": [],
      "execution_count": 28,
      "metadata": {
        "gather": {
          "logged": 1718976354698
        }
      }
    },
    {
      "cell_type": "code",
      "source": [
        "import matplotlib.pyplot as plt\n",
        "import seaborn as sns\n",
        "import numpy as np\n",
        "\n",
        "def plot_confusion_matrix(y_true, y_pred):\n",
        "\n",
        "    classes = ['Normal', 'Abnormal']\n",
        "    cm = confusion_matrix(y_true, y_pred)\n",
        "\n",
        "    # Create a figure and a set of subplots\n",
        "    plt.figure(figsize=(8, 6))\n",
        "    # Create a heatmap\n",
        "    sns.heatmap(cm, annot=True, fmt='d', cmap=plt.cm.Blues, xticklabels=classes, yticklabels=classes)\n",
        "    plt.title('Confusion Matrix')\n",
        "    plt.ylabel('True label')\n",
        "    plt.xlabel('Predicted label')\n",
        "\n",
        "    plt.show()"
      ],
      "outputs": [],
      "execution_count": 29,
      "metadata": {
        "gather": {
          "logged": 1718976354856
        }
      }
    },
    {
      "cell_type": "markdown",
      "source": [
        "## Inference\n",
        "model = Patchcore(\n",
        "    backbone=\"wide_resnet50_2\", \n",
        "    layers=[\"layer3\", \"layer4\"]\n",
        ")"
      ],
      "metadata": {}
    },
    {
      "cell_type": "code",
      "source": [
        "metadata_path = openvino_model_path.parent / \"metadata.json\"\n",
        "print(openvino_model_path.exists(), metadata_path.exists())"
      ],
      "outputs": [
        {
          "output_type": "stream",
          "name": "stdout",
          "text": "True True\n"
        }
      ],
      "execution_count": 45,
      "metadata": {
        "gather": {
          "logged": 1718875368188
        }
      }
    },
    {
      "cell_type": "code",
      "source": [
        "inferencer = OpenVINOInferencer(\n",
        "    path=openvino_model_path,  # Path to the OpenVINO IR model.\n",
        "    metadata=metadata_path,  # Path to the metadata file.\n",
        "    device=\"CPU\",  \n",
        ")\n",
        "\n",
        "normal_img_path = Path(\"/home/azureuser/cloudfiles/code/Users/rohit.potdukhe/Package6941_modified/val/FC\")\n",
        "abnormal_img_path = Path(\"/home/azureuser/cloudfiles/code/Users/rohit.potdukhe/Package6941_modified/val/NG\")\n",
        "\n",
        "normal_predictions = inference(normal_img_path, label = \"normal\")\n",
        "abnormal_predictions = inference(abnormal_img_path, label = \"abnormal\")"
      ],
      "outputs": [],
      "execution_count": 52,
      "metadata": {
        "gather": {
          "logged": 1718875573869
        }
      }
    },
    {
      "cell_type": "code",
      "source": [
        "all_predictions, all_labels, misclassified_files = process_all_predictions(normal_predictions, abnormal_predictions)"
      ],
      "outputs": [],
      "execution_count": 53,
      "metadata": {
        "gather": {
          "logged": 1718875573973
        }
      }
    },
    {
      "cell_type": "code",
      "source": [
        "from sklearn.metrics import accuracy_score, precision_score, recall_score, f1_score, confusion_matrix\n",
        "\n",
        "# Calculate accuracy, precision, recall, and F1 score\n",
        "accuracy = accuracy_score(all_labels, all_predictions)\n",
        "precision = precision_score(all_labels, all_predictions)\n",
        "recall = recall_score(all_labels, all_predictions)\n",
        "f1 = f1_score(all_labels, all_predictions)\n",
        "\n",
        "# Display the metrics\n",
        "print(f\"Accuracy: {accuracy}\")\n",
        "print(f\"Precision: {precision}\")\n",
        "print(f\"Recall: {recall}\")\n",
        "print(f\"F1 Score: {f1}\")"
      ],
      "outputs": [
        {
          "output_type": "stream",
          "name": "stdout",
          "text": "Accuracy: 0.5125\nPrecision: 0.5063291139240507\nRecall: 1.0\nF1 Score: 0.6722689075630253\n"
        }
      ],
      "execution_count": 54,
      "metadata": {
        "gather": {
          "logged": 1718875574587
        }
      }
    },
    {
      "cell_type": "code",
      "source": [
        "%matplotlib inline\n",
        "\n",
        "plot_confusion_matrix(all_labels, all_predictions)"
      ],
      "outputs": [
        {
          "output_type": "display_data",
          "data": {
            "text/plain": "<Figure size 800x600 with 2 Axes>",
            "image/png": "[encoded data removed]"
          },
          "metadata": {}
        }
      ],
      "execution_count": 55,
      "metadata": {
        "gather": {
          "logged": 1718875576827
        }
      }
    },
    {
      "cell_type": "markdown",
      "source": [
        "## Inference\n",
        "model = Patchcore(\n",
        "    backbone=\"wide_resnet50_2\", \n",
        "    layers=[\"layer2\", \"layer3\"]\n",
        ")"
      ],
      "metadata": {
        "nteract": {
          "transient": {
            "deleting": false
          }
        }
      }
    },
    {
      "cell_type": "code",
      "source": [
        "metadata_path = openvino_model_path.parent / \"metadata.json\"\n",
        "print(openvino_model_path.exists(), metadata_path.exists())\n",
        "\n",
        "inferencer = OpenVINOInferencer(\n",
        "    path=openvino_model_path,  # Path to the OpenVINO IR model.\n",
        "    metadata=metadata_path,  # Path to the metadata file.\n",
        "    device=\"CPU\",  \n",
        ")"
      ],
      "outputs": [
        {
          "output_type": "stream",
          "name": "stdout",
          "text": "True True\n"
        }
      ],
      "execution_count": 21,
      "metadata": {
        "gather": {
          "logged": 1718874435348
        }
      }
    },
    {
      "cell_type": "code",
      "source": [
        "normal_img_path = Path(\"/home/azureuser/cloudfiles/code/Users/rohit.potdukhe/Package6941_modified/val/FC\")\n",
        "abnormal_img_path = Path(\"/home/azureuser/cloudfiles/code/Users/rohit.potdukhe/Package6941_modified/val/NG\")\n",
        "\n",
        "normal_predictions = inference(normal_img_path, label = \"normal\")\n",
        "abnormal_predictions = inference(abnormal_img_path, label = \"abnormal\")"
      ],
      "outputs": [],
      "execution_count": 22,
      "metadata": {
        "jupyter": {
          "source_hidden": false,
          "outputs_hidden": false
        },
        "nteract": {
          "transient": {
            "deleting": false
          }
        },
        "gather": {
          "logged": 1718874514902
        }
      }
    },
    {
      "cell_type": "code",
      "source": [
        "all_predictions, all_labels, misclassified_files = process_all_predictions(normal_predictions, abnormal_predictions)"
      ],
      "outputs": [],
      "execution_count": 23,
      "metadata": {
        "jupyter": {
          "source_hidden": false,
          "outputs_hidden": false
        },
        "nteract": {
          "transient": {
            "deleting": false
          }
        },
        "gather": {
          "logged": 1718874515690
        }
      }
    },
    {
      "cell_type": "code",
      "source": [
        "from sklearn.metrics import accuracy_score, precision_score, recall_score, f1_score, confusion_matrix\n",
        "\n",
        "# Calculate accuracy, precision, recall, and F1 score\n",
        "accuracy = accuracy_score(all_labels, all_predictions)\n",
        "precision = precision_score(all_labels, all_predictions)\n",
        "recall = recall_score(all_labels, all_predictions)\n",
        "f1 = f1_score(all_labels, all_predictions)\n",
        "\n",
        "# Display the metrics\n",
        "print(f\"Accuracy: {accuracy}\")\n",
        "print(f\"Precision: {precision}\")\n",
        "print(f\"Recall: {recall}\")\n",
        "print(f\"F1 Score: {f1}\")"
      ],
      "outputs": [
        {
          "output_type": "stream",
          "name": "stdout",
          "text": "Accuracy: 0.8375\nPrecision: 0.7647058823529411\nRecall: 0.975\nF1 Score: 0.8571428571428571\n"
        }
      ],
      "execution_count": 24,
      "metadata": {
        "jupyter": {
          "source_hidden": false,
          "outputs_hidden": false
        },
        "nteract": {
          "transient": {
            "deleting": false
          }
        },
        "gather": {
          "logged": 1718874515824
        }
      }
    },
    {
      "cell_type": "code",
      "source": [
        "%matplotlib inline\n",
        "\n",
        "plot_confusion_matrix(all_labels, all_predictions)"
      ],
      "outputs": [
        {
          "output_type": "display_data",
          "data": {
            "text/plain": "<Figure size 800x600 with 2 Axes>",
            "image/png": "[encoded data removed]"
          },
          "metadata": {}
        }
      ],
      "execution_count": 25,
      "metadata": {
        "jupyter": {
          "source_hidden": false,
          "outputs_hidden": false
        },
        "nteract": {
          "transient": {
            "deleting": false
          }
        },
        "gather": {
          "logged": 1718874517403
        }
      }
    },
    {
      "cell_type": "markdown",
      "source": [
        "## Inference\n",
        "model = Patchcore(\n",
        "    backbone=\"wide_resnet50_2\", \n",
        "    layers=[\"layer1\", \"layer2\"]\n",
        ")"
      ],
      "metadata": {
        "nteract": {
          "transient": {
            "deleting": false
          }
        }
      }
    },
    {
      "cell_type": "code",
      "source": [
        "metadata_path = openvino_model_path.parent / \"metadata.json\"\n",
        "print(openvino_model_path.exists(), metadata_path.exists())\n",
        "\n",
        "inferencer = OpenVINOInferencer(\n",
        "    path=openvino_model_path,  # Path to the OpenVINO IR model.\n",
        "    metadata=metadata_path,  # Path to the metadata file.\n",
        "    device=\"CPU\",  \n",
        ")\n",
        "\n",
        "normal_img_path = Path(\"/home/azureuser/cloudfiles/code/Users/rohit.potdukhe/Package6941_modified/val/FC\")\n",
        "abnormal_img_path = Path(\"/home/azureuser/cloudfiles/code/Users/rohit.potdukhe/Package6941_modified/val/NG\")\n",
        "\n",
        "normal_predictions = inference(normal_img_path, label = \"normal\")\n",
        "abnormal_predictions = inference(abnormal_img_path, label = \"abnormal\")\n",
        "\n",
        "all_predictions, all_labels, misclassified_files = process_all_predictions(normal_predictions, abnormal_predictions)"
      ],
      "outputs": [
        {
          "output_type": "stream",
          "name": "stdout",
          "text": "True True\n"
        }
      ],
      "execution_count": 18,
      "metadata": {
        "jupyter": {
          "source_hidden": false,
          "outputs_hidden": false
        },
        "nteract": {
          "transient": {
            "deleting": false
          }
        },
        "gather": {
          "logged": 1718973062354
        }
      }
    },
    {
      "cell_type": "code",
      "source": [
        "from sklearn.metrics import accuracy_score, precision_score, recall_score, f1_score, confusion_matrix\n",
        "\n",
        "# Calculate accuracy, precision, recall, and F1 score\n",
        "accuracy = accuracy_score(all_labels, all_predictions)\n",
        "precision = precision_score(all_labels, all_predictions)\n",
        "recall = recall_score(all_labels, all_predictions)\n",
        "f1 = f1_score(all_labels, all_predictions)\n",
        "\n",
        "# Display the metrics\n",
        "print(f\"Accuracy: {accuracy}\")\n",
        "print(f\"Precision: {precision}\")\n",
        "print(f\"Recall: {recall}\")\n",
        "print(f\"F1 Score: {f1}\")"
      ],
      "outputs": [
        {
          "output_type": "stream",
          "name": "stdout",
          "text": "Accuracy: 0.9125\nPrecision: 0.8666666666666667\nRecall: 0.975\nF1 Score: 0.9176470588235294\n"
        }
      ],
      "execution_count": 19,
      "metadata": {
        "jupyter": {
          "source_hidden": false,
          "outputs_hidden": false
        },
        "nteract": {
          "transient": {
            "deleting": false
          }
        },
        "gather": {
          "logged": 1718973062499
        }
      }
    },
    {
      "cell_type": "code",
      "source": [
        "%matplotlib inline\n",
        "\n",
        "plot_confusion_matrix(all_labels, all_predictions)"
      ],
      "outputs": [
        {
          "output_type": "display_data",
          "data": {
            "text/plain": "<Figure size 800x600 with 2 Axes>",
            "image/png": "[encoded data removed]"
          },
          "metadata": {}
        }
      ],
      "execution_count": 20,
      "metadata": {
        "jupyter": {
          "source_hidden": false,
          "outputs_hidden": false
        },
        "nteract": {
          "transient": {
            "deleting": false
          }
        },
        "gather": {
          "logged": 1718973062698
        }
      }
    },
    {
      "cell_type": "markdown",
      "source": [
        "## Inference\n",
        "model = Patchcore(\n",
        "    backbone=\"wide_resnet50_2\", \n",
        "    layers=[\"layer2\", \"layer3\", \"layer4\"]\n",
        ")"
      ],
      "metadata": {
        "nteract": {
          "transient": {
            "deleting": false
          }
        }
      }
    },
    {
      "cell_type": "code",
      "source": [
        "metadata_path = openvino_model_path.parent / \"metadata.json\"\n",
        "print(openvino_model_path.exists(), metadata_path.exists())\n",
        "\n",
        "inferencer = OpenVINOInferencer(\n",
        "    path=openvino_model_path,  # Path to the OpenVINO IR model.\n",
        "    metadata=metadata_path,  # Path to the metadata file.\n",
        "    device=\"CPU\",  \n",
        ")\n",
        "\n",
        "normal_img_path = Path(\"/home/azureuser/cloudfiles/code/Users/rohit.potdukhe/Package6941_modified/val/FC\")\n",
        "abnormal_img_path = Path(\"/home/azureuser/cloudfiles/code/Users/rohit.potdukhe/Package6941_modified/val/NG\")\n",
        "\n",
        "normal_predictions = inference(normal_img_path, label = \"normal\")\n",
        "abnormal_predictions = inference(abnormal_img_path, label = \"abnormal\")\n",
        "\n",
        "all_predictions, all_labels, misclassified_files = process_all_predictions(normal_predictions, abnormal_predictions)"
      ],
      "outputs": [
        {
          "output_type": "stream",
          "name": "stdout",
          "text": "True True\n"
        }
      ],
      "execution_count": 30,
      "metadata": {
        "jupyter": {
          "source_hidden": false,
          "outputs_hidden": false
        },
        "nteract": {
          "transient": {
            "deleting": false
          }
        },
        "gather": {
          "logged": 1718976413126
        }
      }
    },
    {
      "cell_type": "code",
      "source": [
        "from sklearn.metrics import accuracy_score, precision_score, recall_score, f1_score, confusion_matrix\n",
        "\n",
        "# Calculate accuracy, precision, recall, and F1 score\n",
        "accuracy = accuracy_score(all_labels, all_predictions)\n",
        "precision = precision_score(all_labels, all_predictions)\n",
        "recall = recall_score(all_labels, all_predictions)\n",
        "f1 = f1_score(all_labels, all_predictions)\n",
        "\n",
        "# Display the metrics\n",
        "print(f\"Accuracy: {accuracy}\")\n",
        "print(f\"Precision: {precision}\")\n",
        "print(f\"Recall: {recall}\")\n",
        "print(f\"F1 Score: {f1}\")"
      ],
      "outputs": [
        {
          "output_type": "stream",
          "name": "stdout",
          "text": "Accuracy: 0.7625\nPrecision: 0.6810344827586207\nRecall: 0.9875\nF1 Score: 0.8061224489795918\n"
        }
      ],
      "execution_count": 31,
      "metadata": {
        "jupyter": {
          "source_hidden": false,
          "outputs_hidden": false
        },
        "nteract": {
          "transient": {
            "deleting": false
          }
        },
        "gather": {
          "logged": 1718976413282
        }
      }
    },
    {
      "cell_type": "code",
      "source": [
        "%matplotlib inline\n",
        "\n",
        "plot_confusion_matrix(all_labels, all_predictions)"
      ],
      "outputs": [
        {
          "output_type": "display_data",
          "data": {
            "text/plain": "<Figure size 800x600 with 2 Axes>",
            "image/png": "[encoded data removed]"
          },
          "metadata": {}
        }
      ],
      "execution_count": 32,
      "metadata": {
        "jupyter": {
          "source_hidden": false,
          "outputs_hidden": false
        },
        "nteract": {
          "transient": {
            "deleting": false
          }
        },
        "gather": {
          "logged": 1718976413465
        }
      }
    },
    {
      "cell_type": "markdown",
      "source": [
        "## Inference with\n",
        "model = Patchcore(\n",
        "    backbone=\"wide_resnet50_2\", \n",
        "    layers=[\"act1\"]\n",
        ")"
      ],
      "metadata": {
        "nteract": {
          "transient": {
            "deleting": false
          }
        }
      }
    },
    {
      "cell_type": "code",
      "source": [
        "metadata_path = openvino_model_path.parent / \"metadata.json\"\n",
        "print(openvino_model_path.exists(), metadata_path.exists())\n",
        "\n",
        "inferencer = OpenVINOInferencer(\n",
        "    path=openvino_model_path,  # Path to the OpenVINO IR model.\n",
        "    metadata=metadata_path,  # Path to the metadata file.\n",
        "    device=\"CPU\",  \n",
        ")\n",
        "\n",
        "normal_img_path = Path(\"/home/azureuser/cloudfiles/code/Users/rohit.potdukhe/Package6941_modified/val/FC\")\n",
        "abnormal_img_path = Path(\"/home/azureuser/cloudfiles/code/Users/rohit.potdukhe/Package6941_modified/val/NG\")\n",
        "\n",
        "normal_predictions = inference(normal_img_path, label = \"normal\")\n",
        "abnormal_predictions = inference(abnormal_img_path, label = \"abnormal\")\n",
        "\n",
        "all_predictions, all_labels, misclassified_files = process_all_predictions(normal_predictions, abnormal_predictions)"
      ],
      "outputs": [],
      "execution_count": null,
      "metadata": {
        "jupyter": {
          "source_hidden": false,
          "outputs_hidden": false
        },
        "nteract": {
          "transient": {
            "deleting": false
          }
        },
        "gather": {
          "logged": 1719357756702
        }
      }
    },
    {
      "cell_type": "code",
      "source": [
        "from sklearn.metrics import accuracy_score, precision_score, recall_score, f1_score, confusion_matrix\n",
        "\n",
        "# Calculate accuracy, precision, recall, and F1 score\n",
        "accuracy = accuracy_score(all_labels, all_predictions)\n",
        "precision = precision_score(all_labels, all_predictions)\n",
        "recall = recall_score(all_labels, all_predictions)\n",
        "f1 = f1_score(all_labels, all_predictions)\n",
        "\n",
        "# Display the metrics\n",
        "print(f\"Accuracy: {accuracy}\")\n",
        "print(f\"Precision: {precision}\")\n",
        "print(f\"Recall: {recall}\")\n",
        "print(f\"F1 Score: {f1}\")"
      ],
      "outputs": [],
      "execution_count": null,
      "metadata": {
        "jupyter": {
          "source_hidden": false,
          "outputs_hidden": false
        },
        "nteract": {
          "transient": {
            "deleting": false
          }
        },
        "gather": {
          "logged": 1719357756729
        }
      }
    },
    {
      "cell_type": "code",
      "source": [
        "%matplotlib inline\n",
        "\n",
        "plot_confusion_matrix(all_labels, all_predictions)"
      ],
      "outputs": [],
      "execution_count": null,
      "metadata": {
        "jupyter": {
          "source_hidden": false,
          "outputs_hidden": false
        },
        "nteract": {
          "transient": {
            "deleting": false
          }
        },
        "gather": {
          "logged": 1719357756750
        }
      }
    },
    {
      "cell_type": "code",
      "source": [],
      "outputs": [],
      "execution_count": null,
      "metadata": {
        "jupyter": {
          "source_hidden": false,
          "outputs_hidden": false
        },
        "nteract": {
          "transient": {
            "deleting": false
          }
        }
      }
    }
  ],
  "metadata": {
    "kernel_info": {
      "name": "anomalib_env"
    },
    "kernelspec": {
      "name": "anomalib_env",
      "language": "python",
      "display_name": "Python 3.10 - anomalib_env\n"
    },
    "language_info": {
      "name": "python",
      "version": "3.10.14",
      "mimetype": "text/x-python",
      "codemirror_mode": {
        "name": "ipython",
        "version": 3
      },
      "pygments_lexer": "ipython3",
      "nbconvert_exporter": "python",
      "file_extension": ".py"
    },
    "microsoft": {
      "host": {
        "AzureML": {
          "notebookHasBeenCompleted": true
        }
      },
      "ms_spell_check": {
        "ms_spell_check_language": "en"
      }
    },
    "nteract": {
      "version": "nteract-front-end@1.0.0"
    },
    "vscode": {
      "interpreter": {
        "hash": "ae223df28f60859a2f400fae8b3a1034248e0a469f5599fd9a89c32908ed7a84"
      }
    }
  },
  "nbformat": 4,
  "nbformat_minor": 2
}