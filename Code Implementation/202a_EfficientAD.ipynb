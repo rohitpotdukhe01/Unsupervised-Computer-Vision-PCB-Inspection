{
  "cells": [
    {
      "attachments": {},
      "cell_type": "markdown",
      "source": [
        "# Train a Model via API\n",
        "\n",
        "This notebook demonstrates how to train, test and infer the EfficientAD model via Anomalib API. Compared to the CLI entrypoints such as \\`tools/\\<train, test, inference>.py, the API offers more flexibility such as modifying the existing model or designing custom approaches."
      ],
      "metadata": {}
    },
    {
      "attachments": {},
      "cell_type": "markdown",
      "source": [
        "## Setting up the Dataset Directory\n",
        "\n",
        "This cell is to ensure we change the directory to have access to the datasets.\n"
      ],
      "metadata": {}
    },
    {
      "cell_type": "code",
      "source": [
        "# NOTE: Provide the path to the dataset root directory.\n",
        "#   If the datasets is not downloaded, it will be downloaded\n",
        "#   to this directory.\n",
        "dataset_root = \"/home/azureuser/cloudfiles/code/Users/rohit.potdukhe/Package6941_modified\""
      ],
      "outputs": [],
      "execution_count": 1,
      "metadata": {
        "gather": {
          "logged": 1727593841223
        }
      }
    },
    {
      "attachments": {},
      "cell_type": "markdown",
      "source": [
        "## Imports\n"
      ],
      "metadata": {
        "pycharm": {
          "name": "#%% md\n"
        }
      }
    },
    {
      "cell_type": "code",
      "source": [
        "from lightning.pytorch.callbacks import EarlyStopping, ModelCheckpoint\n",
        "from matplotlib import pyplot as plt\n",
        "from PIL import Image\n",
        "from IPython.display import display\n",
        "import torch\n",
        "from pathlib import Path\n",
        "\n",
        "from anomalib.data import PredictDataset, Folder\n",
        "from anomalib.engine import Engine\n",
        "from anomalib.models import EfficientAd\n",
        "from anomalib import TaskType\n",
        "from anomalib.loggers import AnomalibTensorBoardLogger\n",
        "from anomalib.data.utils import read_image\n",
        "from anomalib.deploy import OpenVINOInferencer\n",
        "from anomalib.utils.normalization import NormalizationMethod\n",
        "import os, pprint, yaml, warnings, math, glob, cv2, random, logging\n",
        "%matplotlib inline\n",
        "torch.cuda.empty_cache()"
      ],
      "outputs": [],
      "execution_count": 2,
      "metadata": {
        "gather": {
          "logged": 1727593881535
        },
        "pycharm": {
          "name": "#%%\n"
        }
      }
    },
    {
      "attachments": {},
      "cell_type": "markdown",
      "source": [
        "## Data Module\n",
        "\n",
        "To train the model end-to-end, we do need to have a dataset. In our [previous notebooks](https://github.com/openvinotoolkit/anomalib/tree/main/notebooks/100_datamodules), we demonstrate how to initialize benchmark- and custom datasets. In this tutorial, we will use MVTec AD DataModule. We assume that `datasets` directory is created in the `anomalib` root directory and `MVTec` dataset is located in `datasets` directory.\n",
        "\n",
        "Before creating the dataset, let's define the task type that we will be working on. In this notebook, we will be working on a segmentation task. Therefore the `task` variable would be:\n"
      ],
      "metadata": {
        "pycharm": {
          "name": "#%% md\n"
        }
      }
    },
    {
      "cell_type": "code",
      "source": [
        "datamodule = Folder(\n",
        "    name=\"ipig_package6941_modified\",\n",
        "    root=dataset_root,\n",
        "    normal_dir=\"train/FC\",\n",
        "    abnormal_dir=\"train/NG\",\n",
        "    image_size=(256, 256),\n",
        "    train_batch_size=1,\n",
        "    eval_batch_size=1,\n",
        "    task=TaskType.CLASSIFICATION,\n",
        ")\n",
        "datamodule.setup()"
      ],
      "outputs": [],
      "execution_count": 3,
      "metadata": {
        "gather": {
          "logged": 1727593881958
        },
        "pycharm": {
          "name": "#%%\n"
        }
      }
    },
    {
      "cell_type": "code",
      "source": [
        "len(datamodule.train_dataloader())"
      ],
      "outputs": [
        {
          "output_type": "execute_result",
          "execution_count": 4,
          "data": {
            "text/plain": "255"
          },
          "metadata": {}
        }
      ],
      "execution_count": 4,
      "metadata": {
        "gather": {
          "logged": 1727593882285
        },
        "jupyter": {
          "outputs_hidden": false,
          "source_hidden": false
        },
        "nteract": {
          "transient": {
            "deleting": false
          }
        }
      }
    },
    {
      "attachments": {},
      "cell_type": "markdown",
      "source": [
        "## FastFlow Model\n",
        "\n",
        "Now that we have created the MVTec datamodule, we could create the FastFlow model. We could start with printing its docstring.\n"
      ],
      "metadata": {
        "pycharm": {
          "name": "#%% md\n"
        }
      }
    },
    {
      "cell_type": "code",
      "source": [
        "#EfficientAd??"
      ],
      "outputs": [],
      "execution_count": 5,
      "metadata": {
        "gather": {
          "logged": 1727593882620
        },
        "pycharm": {
          "name": "#%%\n"
        }
      }
    },
    {
      "cell_type": "code",
      "source": [
        "#from anomalib.models.image.efficient_ad.lightning_model import EfficientAd\n",
        "# from .torch_model import EfficientAdModelSize\n",
        "\n",
        "# model_size=\"medium can also be tested later\"\n",
        "#from .torch_model import EfficientAdModelSize\n",
        "from anomalib.models.image.efficient_ad.torch_model import EfficientAdModelSize\n",
        "\n",
        "# Initialize EfficientAd model with medium size\n",
        "model = EfficientAd(\n",
        "    model_size=EfficientAdModelSize.M\n",
        ")"
      ],
      "outputs": [],
      "execution_count": 6,
      "metadata": {
        "gather": {
          "logged": 1727593882878
        },
        "pycharm": {
          "name": "#%%\n"
        }
      }
    },
    {
      "attachments": {},
      "cell_type": "markdown",
      "source": [
        "## Callbacks\n",
        "\n",
        "To train the model properly, we will to add some other \"non-essential\" logic such as saving the weights, early-stopping, normalizing the anomaly scores and visualizing the input/output images. To achieve these we use `Callbacks`. Anomalib has its own callbacks and also supports PyTorch Lightning's native callbacks. So, let's create the list of callbacks we want to execute during the training.\n"
      ],
      "metadata": {
        "pycharm": {
          "name": "#%% md\n"
        }
      }
    },
    {
      "cell_type": "code",
      "source": [
        "\"\"\"callbacks = [\n",
        "    ModelCheckpoint(\n",
        "        mode=\"max\",\n",
        "        monitor=\"image_AUROC\",\n",
        "    ),\n",
        "    EarlyStopping(\n",
        "        monitor=\"image_AUROC\",\n",
        "        mode=\"max\",\n",
        "        patience=5,\n",
        "    )\n",
        "]\"\"\""
      ],
      "outputs": [
        {
          "output_type": "execute_result",
          "execution_count": 28,
          "data": {
            "text/plain": "'callbacks = [\\n    ModelCheckpoint(\\n        mode=\"max\",\\n        monitor=\"image_AUROC\",\\n    ),\\n    EarlyStopping(\\n        monitor=\"image_AUROC\",\\n        mode=\"max\",\\n        patience=5,\\n    )\\n]'"
          },
          "metadata": {}
        }
      ],
      "execution_count": 28,
      "metadata": {
        "gather": {
          "logged": 1727558883950
        },
        "pycharm": {
          "name": "#%%\n"
        }
      }
    },
    {
      "attachments": {},
      "cell_type": "markdown",
      "source": [
        "## Training\n",
        "\n",
        "Now that we set up the datamodule, model, optimizer and the callbacks, we could now train the model.\n",
        "\n",
        "The final component to train the model is `Engine` object, which handles train/test/predict pipeline. Let's create the engine object to train the model.\n"
      ],
      "metadata": {
        "pycharm": {
          "name": "#%% md\n"
        }
      }
    },
    {
      "cell_type": "code",
      "source": [
        "engine = Engine(\n",
        "    normalization=NormalizationMethod.MIN_MAX,\n",
        "    threshold=\"F1AdaptiveThreshold\",\n",
        "    task=TaskType.CLASSIFICATION,\n",
        "    image_metrics=[\"AUROC\", \"Precision\", \"Recall\", \"F1Score\"],\n",
        "    accelerator=\"gpu\",\n",
        "    check_val_every_n_epoch=1,\n",
        "    devices=\"auto\",\n",
        "    max_epochs=50,  # Adjusted for more epochs\n",
        "    num_sanity_val_steps=0,\n",
        "    val_check_interval=1.0,\n",
        "    callbacks=None\n",
        ")"
      ],
      "outputs": [],
      "execution_count": 7,
      "metadata": {
        "gather": {
          "logged": 1727593883094
        },
        "pycharm": {
          "name": "#%%\n"
        }
      }
    },
    {
      "attachments": {},
      "cell_type": "markdown",
      "source": [
        "`Trainer` object has number of options that suit all specific needs. For more details, refer to [Lightning Documentation](https://pytorch-lightning.readthedocs.io/en/stable/common/engine.html) to see how it could be tweaked to your needs.\n",
        "\n",
        "Let's train the model now.\n"
      ],
      "metadata": {
        "pycharm": {
          "name": "#%% md\n"
        }
      }
    },
    {
      "cell_type": "code",
      "source": [
        "import os\n",
        "\n",
        "# Your original path\n",
        "original_path = \"~/cloudfiles/code/Users/rohit.potdukhe/Dataset/v1.0.0/train\"\n",
        "\n",
        "# Expand the tilde to the full home directory path\n",
        "expanded_path = os.path.expanduser(original_path)\n",
        "\n",
        "print(expanded_path)  # This should print the correct path"
      ],
      "outputs": [
        {
          "output_type": "stream",
          "name": "stdout",
          "text": "/home/azureuser/cloudfiles/code/Users/rohit.potdukhe/Dataset/v1.0.0/train\n"
        }
      ],
      "execution_count": 6,
      "metadata": {
        "gather": {
          "logged": 1727550798263
        },
        "jupyter": {
          "outputs_hidden": false,
          "source_hidden": false
        },
        "nteract": {
          "transient": {
            "deleting": false
          }
        }
      }
    },
    {
      "cell_type": "code",
      "source": [
        "engine.fit(datamodule=datamodule, model=model)"
      ],
      "outputs": [
        {
          "output_type": "stream",
          "name": "stderr",
          "text": "GPU available: True (cuda), used: True\nTPU available: False, using: 0 TPU cores\nHPU available: False, using: 0 HPUs\n`Trainer(val_check_interval=1.0)` was configured so validation will run at the end of the training epoch..\nIncorrect constructor arguments for Precision metric from TorchMetrics package.\nIncorrect constructor arguments for Recall metric from TorchMetrics package.\nF1Score class exists for backwards compatibility. It will be removed in v1.1. Please use BinaryF1Score from torchmetrics instead\nLOCAL_RANK: 0 - CUDA_VISIBLE_DEVICES: [0]\n\n  | Name                  | Type                     | Params | Mode \n---------------------------------------------------------------------------\n0 | model                 | EfficientAdModel         | 20.7 M | train\n1 | _transform            | Compose                  | 0      | train\n2 | normalization_metrics | MinMax                   | 0      | train\n3 | image_threshold       | F1AdaptiveThreshold      | 0      | train\n4 | pixel_threshold       | F1AdaptiveThreshold      | 0      | train\n5 | image_metrics         | AnomalibMetricCollection | 0      | train\n6 | pixel_metrics         | AnomalibMetricCollection | 0      | train\n---------------------------------------------------------------------------\n20.7 M    Trainable params\n0         Non-trainable params\n20.7 M    Total params\n82.957    Total estimated model params size (MB)\n"
        },
        {
          "output_type": "display_data",
          "data": {
            "text/plain": "Training: |          | 0/? [00:00<?, ?it/s]",
            "application/vnd.jupyter.widget-view+json": {
              "version_major": 2,
              "version_minor": 0,
              "model_id": "130e6935de364265bca34e18b9857063"
            }
          },
          "metadata": {}
        },
        {
          "output_type": "stream",
          "name": "stderr",
          "text": "/anaconda/envs/anomalib_env/lib/python3.10/site-packages/torchvision/transforms/v2/_deprecated.py:42: UserWarning: The transform `ToTensor()` is deprecated and will be removed in a future release. Instead, please use `v2.Compose([v2.ToImage(), v2.ToDtype(torch.float32, scale=True)])`.Output is equivalent up to float precision.\n  warnings.warn(\nCalculate teacher channel mean & std: 100%|██████████| 255/255 [00:12<00:00, 20.88it/s]\n/anaconda/envs/anomalib_env/lib/python3.10/site-packages/lightning/pytorch/core/module.py:518: You called `self.log('train_st', ..., logger=True)` but have no logger configured. You can enable one by doing `Trainer(logger=ALogger(...))`\n/anaconda/envs/anomalib_env/lib/python3.10/site-packages/lightning/pytorch/core/module.py:518: You called `self.log('train_ae', ..., logger=True)` but have no logger configured. You can enable one by doing `Trainer(logger=ALogger(...))`\n/anaconda/envs/anomalib_env/lib/python3.10/site-packages/lightning/pytorch/core/module.py:518: You called `self.log('train_stae', ..., logger=True)` but have no logger configured. You can enable one by doing `Trainer(logger=ALogger(...))`\n/anaconda/envs/anomalib_env/lib/python3.10/site-packages/lightning/pytorch/core/module.py:518: You called `self.log('train_loss', ..., logger=True)` but have no logger configured. You can enable one by doing `Trainer(logger=ALogger(...))`\n"
        },
        {
          "output_type": "display_data",
          "data": {
            "text/plain": "Validation: |          | 0/? [00:00<?, ?it/s]",
            "application/vnd.jupyter.widget-view+json": {
              "version_major": 2,
              "version_minor": 0,
              "model_id": "e29d141966f1416fa4994f45124e98dd"
            }
          },
          "metadata": {}
        },
        {
          "output_type": "stream",
          "name": "stderr",
          "text": "Calculate Validation Dataset Quantiles: 100%|██████████| 191/191 [00:04<00:00, 44.56it/s] \n"
        },
        {
          "output_type": "display_data",
          "data": {
            "text/plain": "Validation: |          | 0/? [00:00<?, ?it/s]",
            "application/vnd.jupyter.widget-view+json": {
              "version_major": 2,
              "version_minor": 0,
              "model_id": "a0f72f4ab87e4b359c840c68a30b46a1"
            }
          },
          "metadata": {}
        },
        {
          "output_type": "stream",
          "name": "stderr",
          "text": "Calculate Validation Dataset Quantiles: 100%|██████████| 191/191 [00:03<00:00, 48.46it/s] \n"
        },
        {
          "output_type": "display_data",
          "data": {
            "text/plain": "Validation: |          | 0/? [00:00<?, ?it/s]",
            "application/vnd.jupyter.widget-view+json": {
              "version_major": 2,
              "version_minor": 0,
              "model_id": "b2d0bec7d43540f088280684fb58c51e"
            }
          },
          "metadata": {}
        },
        {
          "output_type": "stream",
          "name": "stderr",
          "text": "Calculate Validation Dataset Quantiles: 100%|██████████| 191/191 [00:04<00:00, 47.36it/s] \n"
        },
        {
          "output_type": "display_data",
          "data": {
            "text/plain": "Validation: |          | 0/? [00:00<?, ?it/s]",
            "application/vnd.jupyter.widget-view+json": {
              "version_major": 2,
              "version_minor": 0,
              "model_id": "0cd9f8b0fb044388a1418860685d4510"
            }
          },
          "metadata": {}
        },
        {
          "output_type": "stream",
          "name": "stderr",
          "text": "Calculate Validation Dataset Quantiles: 100%|██████████| 191/191 [00:04<00:00, 47.52it/s] \n"
        },
        {
          "output_type": "display_data",
          "data": {
            "text/plain": "Validation: |          | 0/? [00:00<?, ?it/s]",
            "application/vnd.jupyter.widget-view+json": {
              "version_major": 2,
              "version_minor": 0,
              "model_id": "267b53d2a14944db8717eb6b9d39d169"
            }
          },
          "metadata": {}
        },
        {
          "output_type": "stream",
          "name": "stderr",
          "text": "Calculate Validation Dataset Quantiles: 100%|██████████| 191/191 [00:04<00:00, 46.80it/s] \n"
        },
        {
          "output_type": "display_data",
          "data": {
            "text/plain": "Validation: |          | 0/? [00:00<?, ?it/s]",
            "application/vnd.jupyter.widget-view+json": {
              "version_major": 2,
              "version_minor": 0,
              "model_id": "eb62f7eee81c4ee29d35abb5a94f7b1c"
            }
          },
          "metadata": {}
        },
        {
          "output_type": "stream",
          "name": "stderr",
          "text": "Calculate Validation Dataset Quantiles: 100%|██████████| 191/191 [00:03<00:00, 48.09it/s] \n"
        },
        {
          "output_type": "display_data",
          "data": {
            "text/plain": "Validation: |          | 0/? [00:00<?, ?it/s]",
            "application/vnd.jupyter.widget-view+json": {
              "version_major": 2,
              "version_minor": 0,
              "model_id": "d891f4af0b744e26878e0d3b9a3c345f"
            }
          },
          "metadata": {}
        },
        {
          "output_type": "stream",
          "name": "stderr",
          "text": "Calculate Validation Dataset Quantiles: 100%|██████████| 191/191 [00:05<00:00, 34.88it/s] \n"
        },
        {
          "output_type": "display_data",
          "data": {
            "text/plain": "Validation: |          | 0/? [00:00<?, ?it/s]",
            "application/vnd.jupyter.widget-view+json": {
              "version_major": 2,
              "version_minor": 0,
              "model_id": "2a134bc766374ac5b41a77dda0b61c61"
            }
          },
          "metadata": {}
        },
        {
          "output_type": "stream",
          "name": "stderr",
          "text": "Calculate Validation Dataset Quantiles: 100%|██████████| 191/191 [00:04<00:00, 44.79it/s] \n"
        },
        {
          "output_type": "display_data",
          "data": {
            "text/plain": "Validation: |          | 0/? [00:00<?, ?it/s]",
            "application/vnd.jupyter.widget-view+json": {
              "version_major": 2,
              "version_minor": 0,
              "model_id": "65efddcfba1e455096eb113005ac6d51"
            }
          },
          "metadata": {}
        },
        {
          "output_type": "stream",
          "name": "stderr",
          "text": "Calculate Validation Dataset Quantiles: 100%|██████████| 191/191 [00:03<00:00, 48.17it/s] \n"
        },
        {
          "output_type": "display_data",
          "data": {
            "text/plain": "Validation: |          | 0/? [00:00<?, ?it/s]",
            "application/vnd.jupyter.widget-view+json": {
              "version_major": 2,
              "version_minor": 0,
              "model_id": "7224150dc6584c7faf3174ad9bb1c8b7"
            }
          },
          "metadata": {}
        },
        {
          "output_type": "stream",
          "name": "stderr",
          "text": "Calculate Validation Dataset Quantiles: 100%|██████████| 191/191 [00:03<00:00, 48.24it/s] \n"
        },
        {
          "output_type": "display_data",
          "data": {
            "text/plain": "Validation: |          | 0/? [00:00<?, ?it/s]",
            "application/vnd.jupyter.widget-view+json": {
              "version_major": 2,
              "version_minor": 0,
              "model_id": "6665df2523e5469cbeb88a6b8d14dfa4"
            }
          },
          "metadata": {}
        },
        {
          "output_type": "stream",
          "name": "stderr",
          "text": "Calculate Validation Dataset Quantiles: 100%|██████████| 191/191 [00:04<00:00, 47.49it/s] \n"
        },
        {
          "output_type": "display_data",
          "data": {
            "text/plain": "Validation: |          | 0/? [00:00<?, ?it/s]",
            "application/vnd.jupyter.widget-view+json": {
              "version_major": 2,
              "version_minor": 0,
              "model_id": "bbd3dde6a4304591b3cffa4e968b0099"
            }
          },
          "metadata": {}
        },
        {
          "output_type": "stream",
          "name": "stderr",
          "text": "Calculate Validation Dataset Quantiles: 100%|██████████| 191/191 [00:04<00:00, 43.97it/s] \n"
        },
        {
          "output_type": "display_data",
          "data": {
            "text/plain": "Validation: |          | 0/? [00:00<?, ?it/s]",
            "application/vnd.jupyter.widget-view+json": {
              "version_major": 2,
              "version_minor": 0,
              "model_id": "a113c54aa97c4d42ac90b091d66977bc"
            }
          },
          "metadata": {}
        },
        {
          "output_type": "stream",
          "name": "stderr",
          "text": "Calculate Validation Dataset Quantiles: 100%|██████████| 191/191 [00:04<00:00, 46.33it/s] \n"
        },
        {
          "output_type": "display_data",
          "data": {
            "text/plain": "Validation: |          | 0/? [00:00<?, ?it/s]",
            "application/vnd.jupyter.widget-view+json": {
              "version_major": 2,
              "version_minor": 0,
              "model_id": "67b2fa3f42ec4dcba689eac76ba05f97"
            }
          },
          "metadata": {}
        },
        {
          "output_type": "stream",
          "name": "stderr",
          "text": "Calculate Validation Dataset Quantiles: 100%|██████████| 191/191 [00:04<00:00, 46.37it/s] \n"
        },
        {
          "output_type": "display_data",
          "data": {
            "text/plain": "Validation: |          | 0/? [00:00<?, ?it/s]",
            "application/vnd.jupyter.widget-view+json": {
              "version_major": 2,
              "version_minor": 0,
              "model_id": "2df9ccb1247a431e9b64f2431299ddd0"
            }
          },
          "metadata": {}
        },
        {
          "output_type": "stream",
          "name": "stderr",
          "text": "Calculate Validation Dataset Quantiles: 100%|██████████| 191/191 [00:04<00:00, 47.35it/s] \n"
        },
        {
          "output_type": "display_data",
          "data": {
            "text/plain": "Validation: |          | 0/? [00:00<?, ?it/s]",
            "application/vnd.jupyter.widget-view+json": {
              "version_major": 2,
              "version_minor": 0,
              "model_id": "81407069523d427396456d0c7312f1b3"
            }
          },
          "metadata": {}
        },
        {
          "output_type": "stream",
          "name": "stderr",
          "text": "Calculate Validation Dataset Quantiles: 100%|██████████| 191/191 [00:04<00:00, 47.67it/s] \n"
        },
        {
          "output_type": "display_data",
          "data": {
            "text/plain": "Validation: |          | 0/? [00:00<?, ?it/s]",
            "application/vnd.jupyter.widget-view+json": {
              "version_major": 2,
              "version_minor": 0,
              "model_id": "59d2c7f44dac41e4b66c9914fdfda421"
            }
          },
          "metadata": {}
        },
        {
          "output_type": "stream",
          "name": "stderr",
          "text": "Calculate Validation Dataset Quantiles: 100%|██████████| 191/191 [00:04<00:00, 47.61it/s] \n"
        },
        {
          "output_type": "display_data",
          "data": {
            "text/plain": "Validation: |          | 0/? [00:00<?, ?it/s]",
            "application/vnd.jupyter.widget-view+json": {
              "version_major": 2,
              "version_minor": 0,
              "model_id": "6c6076ef1a8c4de4824647f62c2ed4d4"
            }
          },
          "metadata": {}
        },
        {
          "output_type": "stream",
          "name": "stderr",
          "text": "Calculate Validation Dataset Quantiles: 100%|██████████| 191/191 [00:04<00:00, 45.80it/s] \n"
        },
        {
          "output_type": "display_data",
          "data": {
            "text/plain": "Validation: |          | 0/? [00:00<?, ?it/s]",
            "application/vnd.jupyter.widget-view+json": {
              "version_major": 2,
              "version_minor": 0,
              "model_id": "38eff07a6bf948a98ab631b3debef8df"
            }
          },
          "metadata": {}
        },
        {
          "output_type": "stream",
          "name": "stderr",
          "text": "Calculate Validation Dataset Quantiles: 100%|██████████| 191/191 [00:03<00:00, 48.56it/s] \n"
        },
        {
          "output_type": "display_data",
          "data": {
            "text/plain": "Validation: |          | 0/? [00:00<?, ?it/s]",
            "application/vnd.jupyter.widget-view+json": {
              "version_major": 2,
              "version_minor": 0,
              "model_id": "20092d12ceb64280a7518d05981cea69"
            }
          },
          "metadata": {}
        },
        {
          "output_type": "stream",
          "name": "stderr",
          "text": "Calculate Validation Dataset Quantiles: 100%|██████████| 191/191 [00:03<00:00, 47.77it/s] \n"
        },
        {
          "output_type": "display_data",
          "data": {
            "text/plain": "Validation: |          | 0/? [00:00<?, ?it/s]",
            "application/vnd.jupyter.widget-view+json": {
              "version_major": 2,
              "version_minor": 0,
              "model_id": "f2a9a3a9e6344db9bd436edd757a976b"
            }
          },
          "metadata": {}
        },
        {
          "output_type": "stream",
          "name": "stderr",
          "text": "Calculate Validation Dataset Quantiles: 100%|██████████| 191/191 [00:04<00:00, 47.32it/s] \n"
        },
        {
          "output_type": "display_data",
          "data": {
            "text/plain": "Validation: |          | 0/? [00:00<?, ?it/s]",
            "application/vnd.jupyter.widget-view+json": {
              "version_major": 2,
              "version_minor": 0,
              "model_id": "b581e25d31ce4823863fccbcb62d628a"
            }
          },
          "metadata": {}
        },
        {
          "output_type": "stream",
          "name": "stderr",
          "text": "Calculate Validation Dataset Quantiles: 100%|██████████| 191/191 [00:04<00:00, 45.92it/s] \n"
        },
        {
          "output_type": "display_data",
          "data": {
            "text/plain": "Validation: |          | 0/? [00:00<?, ?it/s]",
            "application/vnd.jupyter.widget-view+json": {
              "version_major": 2,
              "version_minor": 0,
              "model_id": "3f6d6922fb9b45e382de14a48c1df9de"
            }
          },
          "metadata": {}
        },
        {
          "output_type": "stream",
          "name": "stderr",
          "text": "Calculate Validation Dataset Quantiles: 100%|██████████| 191/191 [00:03<00:00, 48.93it/s] \n"
        },
        {
          "output_type": "display_data",
          "data": {
            "text/plain": "Validation: |          | 0/? [00:00<?, ?it/s]",
            "application/vnd.jupyter.widget-view+json": {
              "version_major": 2,
              "version_minor": 0,
              "model_id": "49ba2749cae04506a5d50a467575e56b"
            }
          },
          "metadata": {}
        },
        {
          "output_type": "stream",
          "name": "stderr",
          "text": "Calculate Validation Dataset Quantiles: 100%|██████████| 191/191 [00:03<00:00, 47.75it/s] \n"
        },
        {
          "output_type": "display_data",
          "data": {
            "text/plain": "Validation: |          | 0/? [00:00<?, ?it/s]",
            "application/vnd.jupyter.widget-view+json": {
              "version_major": 2,
              "version_minor": 0,
              "model_id": "4665b3b2e7984eeb8cbdbd623d97253a"
            }
          },
          "metadata": {}
        },
        {
          "output_type": "stream",
          "name": "stderr",
          "text": "Calculate Validation Dataset Quantiles: 100%|██████████| 191/191 [00:03<00:00, 47.89it/s] \n"
        },
        {
          "output_type": "display_data",
          "data": {
            "text/plain": "Validation: |          | 0/? [00:00<?, ?it/s]",
            "application/vnd.jupyter.widget-view+json": {
              "version_major": 2,
              "version_minor": 0,
              "model_id": "a1124391b9dc4558a309dc4aa918997b"
            }
          },
          "metadata": {}
        },
        {
          "output_type": "stream",
          "name": "stderr",
          "text": "Calculate Validation Dataset Quantiles: 100%|██████████| 191/191 [00:04<00:00, 40.92it/s] \n"
        },
        {
          "output_type": "display_data",
          "data": {
            "text/plain": "Validation: |          | 0/? [00:00<?, ?it/s]",
            "application/vnd.jupyter.widget-view+json": {
              "version_major": 2,
              "version_minor": 0,
              "model_id": "70b6c02eb72f4989bc8bec6849b88509"
            }
          },
          "metadata": {}
        },
        {
          "output_type": "stream",
          "name": "stderr",
          "text": "Calculate Validation Dataset Quantiles: 100%|██████████| 191/191 [00:04<00:00, 45.23it/s] \n"
        },
        {
          "output_type": "display_data",
          "data": {
            "text/plain": "Validation: |          | 0/? [00:00<?, ?it/s]",
            "application/vnd.jupyter.widget-view+json": {
              "version_major": 2,
              "version_minor": 0,
              "model_id": "8fa5506aafcf448b949da1b31bc0ecde"
            }
          },
          "metadata": {}
        },
        {
          "output_type": "stream",
          "name": "stderr",
          "text": "Calculate Validation Dataset Quantiles: 100%|██████████| 191/191 [00:04<00:00, 47.30it/s] \n"
        },
        {
          "output_type": "display_data",
          "data": {
            "text/plain": "Validation: |          | 0/? [00:00<?, ?it/s]",
            "application/vnd.jupyter.widget-view+json": {
              "version_major": 2,
              "version_minor": 0,
              "model_id": "10d01c283589493899c3cca20b15e693"
            }
          },
          "metadata": {}
        },
        {
          "output_type": "stream",
          "name": "stderr",
          "text": "Calculate Validation Dataset Quantiles: 100%|██████████| 191/191 [00:04<00:00, 46.81it/s] \n"
        },
        {
          "output_type": "display_data",
          "data": {
            "text/plain": "Validation: |          | 0/? [00:00<?, ?it/s]",
            "application/vnd.jupyter.widget-view+json": {
              "version_major": 2,
              "version_minor": 0,
              "model_id": "f2c7a7c3efe940d894daed2db1833440"
            }
          },
          "metadata": {}
        },
        {
          "output_type": "stream",
          "name": "stderr",
          "text": "Calculate Validation Dataset Quantiles: 100%|██████████| 191/191 [00:04<00:00, 45.04it/s] \n"
        },
        {
          "output_type": "display_data",
          "data": {
            "text/plain": "Validation: |          | 0/? [00:00<?, ?it/s]",
            "application/vnd.jupyter.widget-view+json": {
              "version_major": 2,
              "version_minor": 0,
              "model_id": "f3d59c6bca0a4f47b5442ca20375bc85"
            }
          },
          "metadata": {}
        },
        {
          "output_type": "stream",
          "name": "stderr",
          "text": "Calculate Validation Dataset Quantiles: 100%|██████████| 191/191 [00:03<00:00, 48.53it/s] \n"
        },
        {
          "output_type": "display_data",
          "data": {
            "text/plain": "Validation: |          | 0/? [00:00<?, ?it/s]",
            "application/vnd.jupyter.widget-view+json": {
              "version_major": 2,
              "version_minor": 0,
              "model_id": "3b26ba3aa80d41ac96d8692dfeab7aee"
            }
          },
          "metadata": {}
        },
        {
          "output_type": "stream",
          "name": "stderr",
          "text": "Calculate Validation Dataset Quantiles: 100%|██████████| 191/191 [00:04<00:00, 47.10it/s] \n"
        },
        {
          "output_type": "display_data",
          "data": {
            "text/plain": "Validation: |          | 0/? [00:00<?, ?it/s]",
            "application/vnd.jupyter.widget-view+json": {
              "version_major": 2,
              "version_minor": 0,
              "model_id": "6558884386ea4c298c1e9c5584c452c9"
            }
          },
          "metadata": {}
        },
        {
          "output_type": "stream",
          "name": "stderr",
          "text": "Calculate Validation Dataset Quantiles: 100%|██████████| 191/191 [00:04<00:00, 47.52it/s] \n"
        },
        {
          "output_type": "display_data",
          "data": {
            "text/plain": "Validation: |          | 0/? [00:00<?, ?it/s]",
            "application/vnd.jupyter.widget-view+json": {
              "version_major": 2,
              "version_minor": 0,
              "model_id": "5e13ce2270bb49ba8c0b339ce319554a"
            }
          },
          "metadata": {}
        },
        {
          "output_type": "stream",
          "name": "stderr",
          "text": "Calculate Validation Dataset Quantiles: 100%|██████████| 191/191 [00:03<00:00, 47.88it/s] \n"
        },
        {
          "output_type": "display_data",
          "data": {
            "text/plain": "Validation: |          | 0/? [00:00<?, ?it/s]",
            "application/vnd.jupyter.widget-view+json": {
              "version_major": 2,
              "version_minor": 0,
              "model_id": "5ca9882bab2c413d969adaa8e5d9f483"
            }
          },
          "metadata": {}
        },
        {
          "output_type": "stream",
          "name": "stderr",
          "text": "Calculate Validation Dataset Quantiles: 100%|██████████| 191/191 [00:04<00:00, 47.57it/s] \n"
        },
        {
          "output_type": "display_data",
          "data": {
            "text/plain": "Validation: |          | 0/? [00:00<?, ?it/s]",
            "application/vnd.jupyter.widget-view+json": {
              "version_major": 2,
              "version_minor": 0,
              "model_id": "bbd253c861fa40f08885140e225d202f"
            }
          },
          "metadata": {}
        },
        {
          "output_type": "stream",
          "name": "stderr",
          "text": "Calculate Validation Dataset Quantiles: 100%|██████████| 191/191 [00:04<00:00, 46.78it/s] \n"
        },
        {
          "output_type": "display_data",
          "data": {
            "text/plain": "Validation: |          | 0/? [00:00<?, ?it/s]",
            "application/vnd.jupyter.widget-view+json": {
              "version_major": 2,
              "version_minor": 0,
              "model_id": "3306a9b66a844c108b533f4a3a3bce44"
            }
          },
          "metadata": {}
        },
        {
          "output_type": "stream",
          "name": "stderr",
          "text": "Calculate Validation Dataset Quantiles: 100%|██████████| 191/191 [00:04<00:00, 47.66it/s] \n"
        },
        {
          "output_type": "display_data",
          "data": {
            "text/plain": "Validation: |          | 0/? [00:00<?, ?it/s]",
            "application/vnd.jupyter.widget-view+json": {
              "version_major": 2,
              "version_minor": 0,
              "model_id": "06fcdec39778402d866fe41fd69a3019"
            }
          },
          "metadata": {}
        },
        {
          "output_type": "stream",
          "name": "stderr",
          "text": "Calculate Validation Dataset Quantiles: 100%|██████████| 191/191 [00:04<00:00, 44.87it/s] \n"
        },
        {
          "output_type": "display_data",
          "data": {
            "text/plain": "Validation: |          | 0/? [00:00<?, ?it/s]",
            "application/vnd.jupyter.widget-view+json": {
              "version_major": 2,
              "version_minor": 0,
              "model_id": "a5c412bb2c064924ab9269169c1b6773"
            }
          },
          "metadata": {}
        },
        {
          "output_type": "stream",
          "name": "stderr",
          "text": "Calculate Validation Dataset Quantiles: 100%|██████████| 191/191 [00:04<00:00, 46.33it/s] \n"
        },
        {
          "output_type": "display_data",
          "data": {
            "text/plain": "Validation: |          | 0/? [00:00<?, ?it/s]",
            "application/vnd.jupyter.widget-view+json": {
              "version_major": 2,
              "version_minor": 0,
              "model_id": "e3982b4efed3422ca36c446ca95d076a"
            }
          },
          "metadata": {}
        },
        {
          "output_type": "stream",
          "name": "stderr",
          "text": "Calculate Validation Dataset Quantiles: 100%|██████████| 191/191 [00:04<00:00, 47.59it/s] \n"
        },
        {
          "output_type": "display_data",
          "data": {
            "text/plain": "Validation: |          | 0/? [00:00<?, ?it/s]",
            "application/vnd.jupyter.widget-view+json": {
              "version_major": 2,
              "version_minor": 0,
              "model_id": "0732c47a0e5e45a5b717dd00a4af43b0"
            }
          },
          "metadata": {}
        },
        {
          "output_type": "stream",
          "name": "stderr",
          "text": "Calculate Validation Dataset Quantiles: 100%|██████████| 191/191 [00:03<00:00, 47.84it/s] \n"
        },
        {
          "output_type": "display_data",
          "data": {
            "text/plain": "Validation: |          | 0/? [00:00<?, ?it/s]",
            "application/vnd.jupyter.widget-view+json": {
              "version_major": 2,
              "version_minor": 0,
              "model_id": "09d396c324674f7db8c2c6292b6362e7"
            }
          },
          "metadata": {}
        },
        {
          "output_type": "stream",
          "name": "stderr",
          "text": "Calculate Validation Dataset Quantiles: 100%|██████████| 191/191 [00:04<00:00, 46.33it/s] \n"
        },
        {
          "output_type": "display_data",
          "data": {
            "text/plain": "Validation: |          | 0/? [00:00<?, ?it/s]",
            "application/vnd.jupyter.widget-view+json": {
              "version_major": 2,
              "version_minor": 0,
              "model_id": "70332d2813044133bcd03a9785350433"
            }
          },
          "metadata": {}
        },
        {
          "output_type": "stream",
          "name": "stderr",
          "text": "Calculate Validation Dataset Quantiles: 100%|██████████| 191/191 [00:04<00:00, 44.17it/s] \n"
        },
        {
          "output_type": "display_data",
          "data": {
            "text/plain": "Validation: |          | 0/? [00:00<?, ?it/s]",
            "application/vnd.jupyter.widget-view+json": {
              "version_major": 2,
              "version_minor": 0,
              "model_id": "27255580c34a4d9ca09af97d32d80cb9"
            }
          },
          "metadata": {}
        },
        {
          "output_type": "stream",
          "name": "stderr",
          "text": "Calculate Validation Dataset Quantiles: 100%|██████████| 191/191 [00:04<00:00, 44.63it/s] \n"
        },
        {
          "output_type": "display_data",
          "data": {
            "text/plain": "Validation: |          | 0/? [00:00<?, ?it/s]",
            "application/vnd.jupyter.widget-view+json": {
              "version_major": 2,
              "version_minor": 0,
              "model_id": "cf97e04f53934dedbf8043c3655bab9a"
            }
          },
          "metadata": {}
        },
        {
          "output_type": "stream",
          "name": "stderr",
          "text": "Calculate Validation Dataset Quantiles: 100%|██████████| 191/191 [00:03<00:00, 47.98it/s] \n"
        },
        {
          "output_type": "display_data",
          "data": {
            "text/plain": "Validation: |          | 0/? [00:00<?, ?it/s]",
            "application/vnd.jupyter.widget-view+json": {
              "version_major": 2,
              "version_minor": 0,
              "model_id": "2ef73cf2ff3d4d9aab0963aea9e715b9"
            }
          },
          "metadata": {}
        },
        {
          "output_type": "stream",
          "name": "stderr",
          "text": "Calculate Validation Dataset Quantiles: 100%|██████████| 191/191 [00:04<00:00, 46.23it/s] \n"
        },
        {
          "output_type": "display_data",
          "data": {
            "text/plain": "Validation: |          | 0/? [00:00<?, ?it/s]",
            "application/vnd.jupyter.widget-view+json": {
              "version_major": 2,
              "version_minor": 0,
              "model_id": "206d61dd36c14aad967ff3f58c9ca2b3"
            }
          },
          "metadata": {}
        },
        {
          "output_type": "stream",
          "name": "stderr",
          "text": "Calculate Validation Dataset Quantiles: 100%|██████████| 191/191 [00:04<00:00, 47.35it/s] \n"
        },
        {
          "output_type": "display_data",
          "data": {
            "text/plain": "Validation: |          | 0/? [00:00<?, ?it/s]",
            "application/vnd.jupyter.widget-view+json": {
              "version_major": 2,
              "version_minor": 0,
              "model_id": "cee74c1251af43bfa4badea082773777"
            }
          },
          "metadata": {}
        },
        {
          "output_type": "stream",
          "name": "stderr",
          "text": "Calculate Validation Dataset Quantiles: 100%|██████████| 191/191 [00:04<00:00, 47.72it/s] \n"
        },
        {
          "output_type": "display_data",
          "data": {
            "text/plain": "Validation: |          | 0/? [00:00<?, ?it/s]",
            "application/vnd.jupyter.widget-view+json": {
              "version_major": 2,
              "version_minor": 0,
              "model_id": "e6338fa0b96348d1a3f21ad687a457ea"
            }
          },
          "metadata": {}
        },
        {
          "output_type": "stream",
          "name": "stderr",
          "text": "Calculate Validation Dataset Quantiles: 100%|██████████| 191/191 [00:04<00:00, 47.63it/s] \n"
        },
        {
          "output_type": "display_data",
          "data": {
            "text/plain": "Validation: |          | 0/? [00:00<?, ?it/s]",
            "application/vnd.jupyter.widget-view+json": {
              "version_major": 2,
              "version_minor": 0,
              "model_id": "27b8621457264fd3b873fc9dcaa5f2d2"
            }
          },
          "metadata": {}
        },
        {
          "output_type": "stream",
          "name": "stderr",
          "text": "Calculate Validation Dataset Quantiles: 100%|██████████| 191/191 [00:04<00:00, 45.87it/s] \n`Trainer.fit` stopped: `max_epochs=50` reached.\n"
        }
      ],
      "execution_count": 8,
      "metadata": {
        "gather": {
          "logged": 1727602164898
        },
        "pycharm": {
          "name": "#%%\n"
        }
      }
    },
    {
      "attachments": {},
      "cell_type": "markdown",
      "source": [
        "The training has finished after 12 epochs. This is because, we set the `EarlyStopping` criteria with a patience of 3, which terminated the training after `pixel_AUROC` stopped improving. If we increased the `patience`, the training would continue further.\n",
        "\n",
        "## Testing\n",
        "\n",
        "Now that we trained the model, we could test the model to check the overall performance on the test set. We will also be writing the output of the test images to a file since we set `VisualizerCallback` in `callbacks`.\n"
      ],
      "metadata": {
        "pycharm": {
          "name": "#%% md\n"
        }
      }
    },
    {
      "cell_type": "code",
      "source": [
        "#Model size = small\n",
        "engine.test(datamodule=datamodule, model=model)"
      ],
      "outputs": [
        {
          "output_type": "stream",
          "name": "stderr",
          "text": "Incorrect constructor arguments for Precision metric from TorchMetrics package.\nIncorrect constructor arguments for Recall metric from TorchMetrics package.\nF1Score class exists for backwards compatibility. It will be removed in v1.1. Please use BinaryF1Score from torchmetrics instead\nLOCAL_RANK: 0 - CUDA_VISIBLE_DEVICES: [0]\n"
        },
        {
          "output_type": "display_data",
          "data": {
            "text/plain": "Testing: |          | 0/? [00:00<?, ?it/s]",
            "application/vnd.jupyter.widget-view+json": {
              "version_major": 2,
              "version_minor": 0,
              "model_id": "3fa809291e134d06865126a1eabe88ca"
            }
          },
          "metadata": {}
        },
        {
          "output_type": "display_data",
          "data": {
            "text/plain": "┏━━━━━━━━━━━━━━━━━━━━━━━━━━━┳━━━━━━━━━━━━━━━━━━━━━━━━━━━┓\n┃\u001b[1m \u001b[0m\u001b[1m       Test metric       \u001b[0m\u001b[1m \u001b[0m┃\u001b[1m \u001b[0m\u001b[1m      DataLoader 0       \u001b[0m\u001b[1m \u001b[0m┃\n┡━━━━━━━━━━━━━━━━━━━━━━━━━━━╇━━━━━━━━━━━━━━━━━━━━━━━━━━━┩\n│\u001b[36m \u001b[0m\u001b[36m       image_AUROC       \u001b[0m\u001b[36m \u001b[0m│\u001b[35m \u001b[0m\u001b[35m   0.7244141101837158    \u001b[0m\u001b[35m \u001b[0m│\n│\u001b[36m \u001b[0m\u001b[36m      image_F1Score      \u001b[0m\u001b[36m \u001b[0m│\u001b[35m \u001b[0m\u001b[35m   0.8888888955116272    \u001b[0m\u001b[35m \u001b[0m│\n└───────────────────────────┴───────────────────────────┘\n",
            "text/html": "<pre style=\"white-space:pre;overflow-x:auto;line-height:normal;font-family:Menlo,'DejaVu Sans Mono',consolas,'Courier New',monospace\">┏━━━━━━━━━━━━━━━━━━━━━━━━━━━┳━━━━━━━━━━━━━━━━━━━━━━━━━━━┓\n┃<span style=\"font-weight: bold\">        Test metric        </span>┃<span style=\"font-weight: bold\">       DataLoader 0        </span>┃\n┡━━━━━━━━━━━━━━━━━━━━━━━━━━━╇━━━━━━━━━━━━━━━━━━━━━━━━━━━┩\n│<span style=\"color: #008080; text-decoration-color: #008080\">        image_AUROC        </span>│<span style=\"color: #800080; text-decoration-color: #800080\">    0.7244141101837158     </span>│\n│<span style=\"color: #008080; text-decoration-color: #008080\">       image_F1Score       </span>│<span style=\"color: #800080; text-decoration-color: #800080\">    0.8888888955116272     </span>│\n└───────────────────────────┴───────────────────────────┘\n</pre>\n"
          },
          "metadata": {}
        },
        {
          "output_type": "execute_result",
          "execution_count": 8,
          "data": {
            "text/plain": "[{'image_AUROC': 0.7244141101837158, 'image_F1Score': 0.8888888955116272}]"
          },
          "metadata": {}
        }
      ],
      "execution_count": 8,
      "metadata": {
        "gather": {
          "logged": 1727555443856
        },
        "pycharm": {
          "name": "#%%\n"
        }
      }
    },
    {
      "cell_type": "code",
      "source": [
        "#Model size = small, with callbacks\n",
        "engine.test(datamodule=datamodule, model=model)"
      ],
      "outputs": [
        {
          "output_type": "stream",
          "name": "stderr",
          "text": "WARNING:anomalib.metrics:Incorrect constructor arguments for Precision metric from TorchMetrics package.\nWARNING:anomalib.metrics:Incorrect constructor arguments for Recall metric from TorchMetrics package.\nWARNING:anomalib.metrics.f1_score:F1Score class exists for backwards compatibility. It will be removed in v1.1. Please use BinaryF1Score from torchmetrics instead\nLOCAL_RANK: 0 - CUDA_VISIBLE_DEVICES: [0]\n"
        },
        {
          "output_type": "display_data",
          "data": {
            "text/plain": "Testing: |          | 0/? [00:00<?, ?it/s]",
            "application/vnd.jupyter.widget-view+json": {
              "version_major": 2,
              "version_minor": 0,
              "model_id": "af6e3ad7efce4216a5fbafc5bf5c3b34"
            }
          },
          "metadata": {}
        },
        {
          "output_type": "display_data",
          "data": {
            "text/plain": "┏━━━━━━━━━━━━━━━━━━━━━━━━━━━┳━━━━━━━━━━━━━━━━━━━━━━━━━━━┓\n┃\u001b[1m \u001b[0m\u001b[1m       Test metric       \u001b[0m\u001b[1m \u001b[0m┃\u001b[1m \u001b[0m\u001b[1m      DataLoader 0       \u001b[0m\u001b[1m \u001b[0m┃\n┡━━━━━━━━━━━━━━━━━━━━━━━━━━━╇━━━━━━━━━━━━━━━━━━━━━━━━━━━┩\n│\u001b[36m \u001b[0m\u001b[36m       image_AUROC       \u001b[0m\u001b[36m \u001b[0m│\u001b[35m \u001b[0m\u001b[35m   0.7203125357627869    \u001b[0m\u001b[35m \u001b[0m│\n│\u001b[36m \u001b[0m\u001b[36m      image_F1Score      \u001b[0m\u001b[36m \u001b[0m│\u001b[35m \u001b[0m\u001b[35m   0.9116809368133545    \u001b[0m\u001b[35m \u001b[0m│\n└───────────────────────────┴───────────────────────────┘\n",
            "text/html": "<pre style=\"white-space:pre;overflow-x:auto;line-height:normal;font-family:Menlo,'DejaVu Sans Mono',consolas,'Courier New',monospace\">┏━━━━━━━━━━━━━━━━━━━━━━━━━━━┳━━━━━━━━━━━━━━━━━━━━━━━━━━━┓\n┃<span style=\"font-weight: bold\">        Test metric        </span>┃<span style=\"font-weight: bold\">       DataLoader 0        </span>┃\n┡━━━━━━━━━━━━━━━━━━━━━━━━━━━╇━━━━━━━━━━━━━━━━━━━━━━━━━━━┩\n│<span style=\"color: #008080; text-decoration-color: #008080\">        image_AUROC        </span>│<span style=\"color: #800080; text-decoration-color: #800080\">    0.7203125357627869     </span>│\n│<span style=\"color: #008080; text-decoration-color: #008080\">       image_F1Score       </span>│<span style=\"color: #800080; text-decoration-color: #800080\">    0.9116809368133545     </span>│\n└───────────────────────────┴───────────────────────────┘\n</pre>\n"
          },
          "metadata": {}
        },
        {
          "output_type": "execute_result",
          "execution_count": 21,
          "data": {
            "text/plain": "[{'image_AUROC': 0.7203125357627869, 'image_F1Score': 0.9116809368133545}]"
          },
          "metadata": {}
        }
      ],
      "execution_count": 21,
      "metadata": {
        "jupyter": {
          "source_hidden": false,
          "outputs_hidden": false
        },
        "nteract": {
          "transient": {
            "deleting": false
          }
        },
        "gather": {
          "logged": 1727556890242
        }
      }
    },
    {
      "cell_type": "code",
      "source": [
        "\"\"\"model = EfficientAd(\n",
        "    model_size=EfficientAdModelSize.M\n",
        ")\"\"\"\n",
        "engine.test(datamodule=datamodule, model=model)"
      ],
      "outputs": [
        {
          "output_type": "stream",
          "name": "stderr",
          "text": "Incorrect constructor arguments for Precision metric from TorchMetrics package.\nIncorrect constructor arguments for Recall metric from TorchMetrics package.\nF1Score class exists for backwards compatibility. It will be removed in v1.1. Please use BinaryF1Score from torchmetrics instead\nLOCAL_RANK: 0 - CUDA_VISIBLE_DEVICES: [0]\n"
        },
        {
          "output_type": "display_data",
          "data": {
            "text/plain": "Testing: |          | 0/? [00:00<?, ?it/s]",
            "application/vnd.jupyter.widget-view+json": {
              "version_major": 2,
              "version_minor": 0,
              "model_id": "929e35777e29456eb3aad43fb9c7f4ab"
            }
          },
          "metadata": {}
        },
        {
          "output_type": "display_data",
          "data": {
            "text/plain": "┏━━━━━━━━━━━━━━━━━━━━━━━━━━━┳━━━━━━━━━━━━━━━━━━━━━━━━━━━┓\n┃\u001b[1m \u001b[0m\u001b[1m       Test metric       \u001b[0m\u001b[1m \u001b[0m┃\u001b[1m \u001b[0m\u001b[1m      DataLoader 0       \u001b[0m\u001b[1m \u001b[0m┃\n┡━━━━━━━━━━━━━━━━━━━━━━━━━━━╇━━━━━━━━━━━━━━━━━━━━━━━━━━━┩\n│\u001b[36m \u001b[0m\u001b[36m       image_AUROC       \u001b[0m\u001b[36m \u001b[0m│\u001b[35m \u001b[0m\u001b[35m    0.667773425579071    \u001b[0m\u001b[35m \u001b[0m│\n│\u001b[36m \u001b[0m\u001b[36m      image_F1Score      \u001b[0m\u001b[36m \u001b[0m│\u001b[35m \u001b[0m\u001b[35m    0.930232584476471    \u001b[0m\u001b[35m \u001b[0m│\n└───────────────────────────┴───────────────────────────┘\n",
            "text/html": "<pre style=\"white-space:pre;overflow-x:auto;line-height:normal;font-family:Menlo,'DejaVu Sans Mono',consolas,'Courier New',monospace\">┏━━━━━━━━━━━━━━━━━━━━━━━━━━━┳━━━━━━━━━━━━━━━━━━━━━━━━━━━┓\n┃<span style=\"font-weight: bold\">        Test metric        </span>┃<span style=\"font-weight: bold\">       DataLoader 0        </span>┃\n┡━━━━━━━━━━━━━━━━━━━━━━━━━━━╇━━━━━━━━━━━━━━━━━━━━━━━━━━━┩\n│<span style=\"color: #008080; text-decoration-color: #008080\">        image_AUROC        </span>│<span style=\"color: #800080; text-decoration-color: #800080\">     0.667773425579071     </span>│\n│<span style=\"color: #008080; text-decoration-color: #008080\">       image_F1Score       </span>│<span style=\"color: #800080; text-decoration-color: #800080\">     0.930232584476471     </span>│\n└───────────────────────────┴───────────────────────────┘\n</pre>\n"
          },
          "metadata": {}
        },
        {
          "output_type": "execute_result",
          "execution_count": 9,
          "data": {
            "text/plain": "[{'image_AUROC': 0.667773425579071, 'image_F1Score': 0.930232584476471}]"
          },
          "metadata": {}
        }
      ],
      "execution_count": 9,
      "metadata": {
        "jupyter": {
          "source_hidden": false,
          "outputs_hidden": false
        },
        "nteract": {
          "transient": {
            "deleting": false
          }
        },
        "gather": {
          "logged": 1727602253382
        }
      }
    },
    {
      "cell_type": "markdown",
      "source": [
        "## Export"
      ],
      "metadata": {
        "nteract": {
          "transient": {
            "deleting": false
          }
        }
      }
    },
    {
      "cell_type": "code",
      "source": [
        "!zip -r tb_logs.zip tb_logs"
      ],
      "outputs": [
        {
          "output_type": "stream",
          "name": "stdout",
          "text": "updating: tb_logs/ (stored 0%)\r\nupdating: tb_logs/Efficient_AD_logs/ (stored 0%)\r\nupdating: tb_logs/Efficient_AD_logs/version_0/ (stored 0%)\r\nupdating: tb_logs/Efficient_AD_logs/version_0/events.out.tfevents.1715641732.rohit-unite-13th-may.27606.0 (deflated 71%)\r\nupdating: tb_logs/Efficient_AD_logs/version_0/events.out.tfevents.1715753758.rohit-unite-13th-may.27606.1 (deflated 2%)\r\nupdating: tb_logs/Efficient_AD_logs/version_0/hparams.yaml (deflated 17%)\r\n"
        }
      ],
      "execution_count": 29,
      "metadata": {
        "jupyter": {
          "outputs_hidden": false,
          "source_hidden": false
        },
        "nteract": {
          "transient": {
            "deleting": false
          }
        }
      }
    },
    {
      "cell_type": "code",
      "source": [
        "from anomalib.deploy import ExportType\n",
        "\n",
        "export_root = Path.cwd() / 'weights' / 'effficientAD_M'\n",
        "\n",
        "export_root.mkdir(parents=True, exist_ok=True)\n",
        "\n",
        "# Exporting model to OpenVINO\n",
        "openvino_model_path = engine.export(\n",
        "    model=model,\n",
        "    export_type=ExportType.OPENVINO,\n",
        "    export_root=str(export_root),\n",
        ")"
      ],
      "outputs": [
        {
          "output_type": "stream",
          "name": "stderr",
          "text": "/mnt/batch/tasks/shared/LS_root/mounts/clusters/rohit-unite-23-may/code/Users/rohit.potdukhe/unite/anomalib/src/anomalib/models/image/efficient_ad/torch_model.py:29: TracerWarning: torch.tensor results are registered as constants in the trace. You can safely ignore this warning if you use this function to create tensors out of constant variables that would be the same every time you call this function. In any other case, this might cause the trace to be incorrect.\n  mean = torch.tensor([0.485, 0.456, 0.406])[None, :, None, None].to(x.device)\n/mnt/batch/tasks/shared/LS_root/mounts/clusters/rohit-unite-23-may/code/Users/rohit.potdukhe/unite/anomalib/src/anomalib/models/image/efficient_ad/torch_model.py:30: TracerWarning: torch.tensor results are registered as constants in the trace. You can safely ignore this warning if you use this function to create tensors out of constant variables that would be the same every time you call this function. In any other case, this might cause the trace to be incorrect.\n  std = torch.tensor([0.229, 0.224, 0.225])[None, :, None, None].to(x.device)\n/mnt/batch/tasks/shared/LS_root/mounts/clusters/rohit-unite-23-may/code/Users/rohit.potdukhe/unite/anomalib/src/anomalib/models/image/efficient_ad/torch_model.py:332: TracerWarning: Converting a tensor to a Python boolean might cause the trace to be incorrect. We can't record the data flow of Python values, so this value will be treated as a constant in the future. This means that the trace might not generalize to other inputs!\n  return any(value.sum() != 0 for _, value in p_dic.items())\n/mnt/batch/tasks/shared/LS_root/mounts/clusters/rohit-unite-23-may/code/Users/rohit.potdukhe/unite/anomalib/src/anomalib/models/image/efficient_ad/torch_model.py:212: TracerWarning: Converting a tensor to a Python float might cause the trace to be incorrect. We can't record the data flow of Python values, so this value will be treated as a constant in the future. This means that the trace might not generalize to other inputs!\n  math.ceil(image_size[0] / 4) if self.padding else math.ceil(image_size[0] / 4) - 8,\n/mnt/batch/tasks/shared/LS_root/mounts/clusters/rohit-unite-23-may/code/Users/rohit.potdukhe/unite/anomalib/src/anomalib/models/image/efficient_ad/torch_model.py:213: TracerWarning: Converting a tensor to a Python float might cause the trace to be incorrect. We can't record the data flow of Python values, so this value will be treated as a constant in the future. This means that the trace might not generalize to other inputs!\n  math.ceil(image_size[1] / 4) if self.padding else math.ceil(image_size[1] / 4) - 8,\n/anaconda/envs/anomalib_env/lib/python3.10/site-packages/torch/onnx/_internal/jit_utils.py:307: UserWarning: Constant folding - Only steps=1 can be constant folded for opset >= 10 onnx::Slice op. Constant folding not applied. (Triggered internally at ../torch/csrc/jit/passes/onnx/constant_fold.cpp:179.)\n  _C._jit_pass_onnx_node_shape_type_inference(node, params_dict, opset_version)\n/anaconda/envs/anomalib_env/lib/python3.10/site-packages/torch/onnx/utils.py:702: UserWarning: Constant folding - Only steps=1 can be constant folded for opset >= 10 onnx::Slice op. Constant folding not applied. (Triggered internally at ../torch/csrc/jit/passes/onnx/constant_fold.cpp:179.)\n  _C._jit_pass_onnx_graph_shape_type_inference(\n/anaconda/envs/anomalib_env/lib/python3.10/site-packages/torch/onnx/utils.py:1208: UserWarning: Constant folding - Only steps=1 can be constant folded for opset >= 10 onnx::Slice op. Constant folding not applied. (Triggered internally at ../torch/csrc/jit/passes/onnx/constant_fold.cpp:179.)\n  _C._jit_pass_onnx_graph_shape_type_inference(\n"
        }
      ],
      "execution_count": 10,
      "metadata": {
        "gather": {
          "logged": 1727602256333
        },
        "jupyter": {
          "outputs_hidden": false,
          "source_hidden": false
        },
        "nteract": {
          "transient": {
            "deleting": false
          }
        }
      }
    },
    {
      "cell_type": "markdown",
      "source": [
        "## OpenVINO Inference\n",
        "\n",
        "Now that we trained and tested a model, we could check a single inference result using OpenVINO inferencer object. This will demonstrate how a trained model could be used for inference.\n"
      ],
      "metadata": {}
    },
    {
      "cell_type": "markdown",
      "source": [
        "## Prediction on all images"
      ],
      "metadata": {}
    },
    {
      "cell_type": "code",
      "source": [
        "def inference(dataset_path, label):\n",
        "    \n",
        "    predictions = []\n",
        "\n",
        "    image_paths = list(dataset_path.glob(\"**/*.jpg\"))\n",
        "\n",
        "    for image_path in image_paths:\n",
        "        image = read_image(image_path)\n",
        "\n",
        "        prediction = inferencer.predict(image=image)\n",
        "        predictions.append((image_path, prediction, label))\n",
        "    \n",
        "    return predictions"
      ],
      "outputs": [],
      "execution_count": 11,
      "metadata": {
        "gather": {
          "logged": 1727602256611
        }
      }
    },
    {
      "cell_type": "code",
      "source": [
        "def process_all_predictions(normal_predictions, abnormal_predictions):\n",
        "    all_predictions = []\n",
        "    all_labels = []\n",
        "    misclassified_files = []\n",
        "\n",
        "    # Process normal predictions\n",
        "    for file_path, image_result, _ in normal_predictions:\n",
        "        pred_label = 1 if image_result.pred_label else 0\n",
        "        all_predictions.append(pred_label)\n",
        "        all_labels.append(0)  # 0 for normal\n",
        "        if pred_label != 0:\n",
        "            misclassified_files.append((file_path, 'Normal', 'Predicted as Abnormal'))\n",
        "\n",
        "    # Process abnormal predictions\n",
        "    for file_path, image_result, _ in abnormal_predictions:\n",
        "        pred_label = 1 if image_result.pred_label else 0\n",
        "        all_predictions.append(pred_label)\n",
        "        all_labels.append(1)  # 1 for abnormal\n",
        "        if pred_label != 1:\n",
        "            misclassified_files.append((file_path, 'Abnormal', 'Predicted as Normal'))\n",
        "        \n",
        "    return all_predictions, all_labels, misclassified_files"
      ],
      "outputs": [],
      "execution_count": 12,
      "metadata": {
        "gather": {
          "logged": 1727602256841
        }
      }
    },
    {
      "cell_type": "code",
      "source": [
        "import matplotlib.pyplot as plt\n",
        "import seaborn as sns\n",
        "import numpy as np\n",
        "\n",
        "def plot_confusion_matrix(y_true, y_pred):\n",
        "\n",
        "    classes = ['Normal', 'Abnormal']\n",
        "    cm = confusion_matrix(y_true, y_pred)\n",
        "\n",
        "    # Create a figure and a set of subplots\n",
        "    plt.figure(figsize=(8, 6))\n",
        "    # Create a heatmap\n",
        "    sns.heatmap(cm, annot=True, fmt='d', cmap=plt.cm.Blues, xticklabels=classes, yticklabels=classes)\n",
        "    plt.title('Confusion Matrix')\n",
        "    plt.ylabel('True label')\n",
        "    plt.xlabel('Predicted label')\n",
        "\n",
        "    plt.show()"
      ],
      "outputs": [],
      "execution_count": 13,
      "metadata": {
        "gather": {
          "logged": 1727602257076
        }
      }
    },
    {
      "cell_type": "markdown",
      "source": [
        "## Inference\n",
        "model S"
      ],
      "metadata": {}
    },
    {
      "cell_type": "code",
      "source": [
        "metadata_path = openvino_model_path.parent / \"metadata.json\"\n",
        "print(openvino_model_path.exists(), metadata_path.exists())"
      ],
      "outputs": [
        {
          "output_type": "stream",
          "name": "stdout",
          "text": "True True\n"
        }
      ],
      "execution_count": 13,
      "metadata": {
        "gather": {
          "logged": 1727555446484
        }
      }
    },
    {
      "cell_type": "code",
      "source": [
        "inferencer = OpenVINOInferencer(\n",
        "    path=openvino_model_path,  # Path to the OpenVINO IR model.\n",
        "    metadata=metadata_path,  # Path to the metadata file.\n",
        "    device=\"CPU\",  \n",
        ")\n",
        "\n",
        "normal_img_path = Path(\"/home/azureuser/cloudfiles/code/Users/rohit.potdukhe/Package6941_modified/val/FC\")\n",
        "abnormal_img_path = Path(\"/home/azureuser/cloudfiles/code/Users/rohit.potdukhe/Package6941_modified/val/NG\")\n",
        "\n",
        "normal_predictions = inference(normal_img_path, label = \"normal\")\n",
        "abnormal_predictions = inference(abnormal_img_path, label = \"abnormal\")"
      ],
      "outputs": [],
      "execution_count": 14,
      "metadata": {
        "gather": {
          "logged": 1727555474358
        }
      }
    },
    {
      "cell_type": "code",
      "source": [
        "all_predictions, all_labels, misclassified_files = process_all_predictions(normal_predictions, abnormal_predictions)"
      ],
      "outputs": [],
      "execution_count": 15,
      "metadata": {
        "gather": {
          "logged": 1727555474654
        }
      }
    },
    {
      "cell_type": "code",
      "source": [
        "from sklearn.metrics import accuracy_score, precision_score, recall_score, f1_score, confusion_matrix\n",
        "\n",
        "# Calculate accuracy, precision, recall, and F1 score\n",
        "accuracy = accuracy_score(all_labels, all_predictions)\n",
        "precision = precision_score(all_labels, all_predictions)\n",
        "recall = recall_score(all_labels, all_predictions)\n",
        "f1 = f1_score(all_labels, all_predictions)\n",
        "\n",
        "# Display the metrics\n",
        "print(f\"Accuracy: {accuracy}\")\n",
        "print(f\"Precision: {precision}\")\n",
        "print(f\"Recall: {recall}\")\n",
        "print(f\"F1 Score: {f1}\")"
      ],
      "outputs": [
        {
          "output_type": "stream",
          "name": "stdout",
          "text": "Accuracy: 0.51875\nPrecision: 0.5096774193548387\nRecall: 0.9875\nF1 Score: 0.6723404255319149\n"
        }
      ],
      "execution_count": 16,
      "metadata": {
        "gather": {
          "logged": 1727555474961
        }
      }
    },
    {
      "cell_type": "code",
      "source": [
        "%matplotlib inline\n",
        "\n",
        "plot_confusion_matrix(all_labels, all_predictions)"
      ],
      "outputs": [
        {
          "output_type": "display_data",
          "data": {
            "text/plain": "<Figure size 800x600 with 2 Axes>",
            "image/png": "[encoded data removed]"
          },
          "metadata": {}
        }
      ],
      "execution_count": 17,
      "metadata": {
        "gather": {
          "logged": 1727555475252
        }
      }
    },
    {
      "cell_type": "markdown",
      "source": [
        "## Inference\n",
        "model S with callbacks"
      ],
      "metadata": {
        "nteract": {
          "transient": {
            "deleting": false
          }
        }
      }
    },
    {
      "cell_type": "code",
      "source": [
        "metadata_path = openvino_model_path.parent / \"metadata.json\"\n",
        "print(openvino_model_path.exists(), metadata_path.exists())"
      ],
      "outputs": [
        {
          "output_type": "stream",
          "name": "stdout",
          "text": "True True\n"
        }
      ],
      "execution_count": 23,
      "metadata": {
        "gather": {
          "logged": 1727556894476
        }
      }
    },
    {
      "cell_type": "code",
      "source": [
        "inferencer = OpenVINOInferencer(\n",
        "    path=openvino_model_path,  # Path to the OpenVINO IR model.\n",
        "    metadata=metadata_path,  # Path to the metadata file.\n",
        "    device=\"CPU\",  \n",
        ")\n",
        "\n",
        "normal_img_path = Path(\"/home/azureuser/cloudfiles/code/Users/rohit.potdukhe/Package6941_modified/val/FC\")\n",
        "abnormal_img_path = Path(\"/home/azureuser/cloudfiles/code/Users/rohit.potdukhe/Package6941_modified/val/NG\")\n",
        "\n",
        "normal_predictions = inference(normal_img_path, label = \"normal\")\n",
        "abnormal_predictions = inference(abnormal_img_path, label = \"abnormal\")"
      ],
      "outputs": [],
      "execution_count": 24,
      "metadata": {
        "gather": {
          "logged": 1727556919071
        }
      }
    },
    {
      "cell_type": "code",
      "source": [
        "all_predictions, all_labels, misclassified_files = process_all_predictions(normal_predictions, abnormal_predictions)"
      ],
      "outputs": [],
      "execution_count": 25,
      "metadata": {
        "gather": {
          "logged": 1727556919271
        }
      }
    },
    {
      "cell_type": "code",
      "source": [
        "from sklearn.metrics import accuracy_score, precision_score, recall_score, f1_score, confusion_matrix\n",
        "\n",
        "# Calculate accuracy, precision, recall, and F1 score\n",
        "accuracy = accuracy_score(all_labels, all_predictions)\n",
        "precision = precision_score(all_labels, all_predictions)\n",
        "recall = recall_score(all_labels, all_predictions)\n",
        "f1 = f1_score(all_labels, all_predictions)\n",
        "\n",
        "# Display the metrics\n",
        "print(f\"Accuracy: {accuracy}\")\n",
        "print(f\"Precision: {precision}\")\n",
        "print(f\"Recall: {recall}\")\n",
        "print(f\"F1 Score: {f1}\")"
      ],
      "outputs": [
        {
          "output_type": "stream",
          "name": "stdout",
          "text": "Accuracy: 0.5125\nPrecision: 0.5063291139240507\nRecall: 1.0\nF1 Score: 0.6722689075630253\n"
        }
      ],
      "execution_count": 26,
      "metadata": {
        "jupyter": {
          "source_hidden": false,
          "outputs_hidden": false
        },
        "nteract": {
          "transient": {
            "deleting": false
          }
        },
        "gather": {
          "logged": 1727556919463
        }
      }
    },
    {
      "cell_type": "code",
      "source": [
        "%matplotlib inline\n",
        "\n",
        "plot_confusion_matrix(all_labels, all_predictions)"
      ],
      "outputs": [
        {
          "output_type": "display_data",
          "data": {
            "text/plain": "<Figure size 800x600 with 2 Axes>",
            "image/png": "[encoded data removed]"
          },
          "metadata": {}
        }
      ],
      "execution_count": 27,
      "metadata": {
        "jupyter": {
          "source_hidden": false,
          "outputs_hidden": false
        },
        "nteract": {
          "transient": {
            "deleting": false
          }
        },
        "gather": {
          "logged": 1727556919702
        }
      }
    },
    {
      "cell_type": "markdown",
      "source": [
        "## Inference\n",
        "model = EfficientAd(\n",
        "    model_size=EfficientAdModelSize.M\n",
        ")"
      ],
      "metadata": {
        "nteract": {
          "transient": {
            "deleting": false
          }
        }
      }
    },
    {
      "cell_type": "code",
      "source": [
        "metadata_path = openvino_model_path.parent / \"metadata.json\"\n",
        "print(openvino_model_path.exists(), metadata_path.exists())"
      ],
      "outputs": [
        {
          "output_type": "stream",
          "name": "stdout",
          "text": "True True\n"
        }
      ],
      "execution_count": 14,
      "metadata": {
        "jupyter": {
          "source_hidden": false,
          "outputs_hidden": false
        },
        "nteract": {
          "transient": {
            "deleting": false
          }
        },
        "gather": {
          "logged": 1727602257298
        }
      }
    },
    {
      "cell_type": "code",
      "source": [
        "inferencer = OpenVINOInferencer(\n",
        "    path=openvino_model_path,  # Path to the OpenVINO IR model.\n",
        "    metadata=metadata_path,  # Path to the metadata file.\n",
        "    device=\"CPU\",  \n",
        ")\n",
        "\n",
        "normal_img_path = Path(\"/home/azureuser/cloudfiles/code/Users/rohit.potdukhe/Package6941_modified/val/FC\")\n",
        "abnormal_img_path = Path(\"/home/azureuser/cloudfiles/code/Users/rohit.potdukhe/Package6941_modified/val/NG\")\n",
        "\n",
        "normal_predictions = inference(normal_img_path, label = \"normal\")\n",
        "abnormal_predictions = inference(abnormal_img_path, label = \"abnormal\")"
      ],
      "outputs": [],
      "execution_count": 15,
      "metadata": {
        "jupyter": {
          "source_hidden": false,
          "outputs_hidden": false
        },
        "nteract": {
          "transient": {
            "deleting": false
          }
        },
        "gather": {
          "logged": 1727602319957
        }
      }
    },
    {
      "cell_type": "code",
      "source": [
        "all_predictions, all_labels, misclassified_files = process_all_predictions(normal_predictions, abnormal_predictions)"
      ],
      "outputs": [],
      "execution_count": 16,
      "metadata": {
        "jupyter": {
          "source_hidden": false,
          "outputs_hidden": false
        },
        "nteract": {
          "transient": {
            "deleting": false
          }
        },
        "gather": {
          "logged": 1727602320378
        }
      }
    },
    {
      "cell_type": "code",
      "source": [
        "from sklearn.metrics import accuracy_score, precision_score, recall_score, f1_score, confusion_matrix\n",
        "\n",
        "# Calculate accuracy, precision, recall, and F1 score\n",
        "accuracy = accuracy_score(all_labels, all_predictions)\n",
        "precision = precision_score(all_labels, all_predictions)\n",
        "recall = recall_score(all_labels, all_predictions)\n",
        "f1 = f1_score(all_labels, all_predictions)\n",
        "\n",
        "# Display the metrics\n",
        "print(f\"Accuracy: {accuracy}\")\n",
        "print(f\"Precision: {precision}\")\n",
        "print(f\"Recall: {recall}\")\n",
        "print(f\"F1 Score: {f1}\")"
      ],
      "outputs": [
        {
          "output_type": "stream",
          "name": "stdout",
          "text": "Accuracy: 0.6\nPrecision: 0.5555555555555556\nRecall: 1.0\nF1 Score: 0.7142857142857143\n"
        }
      ],
      "execution_count": 17,
      "metadata": {
        "jupyter": {
          "source_hidden": false,
          "outputs_hidden": false
        },
        "nteract": {
          "transient": {
            "deleting": false
          }
        },
        "gather": {
          "logged": 1727602320718
        }
      }
    },
    {
      "cell_type": "code",
      "source": [
        "%matplotlib inline\n",
        "\n",
        "plot_confusion_matrix(all_labels, all_predictions)"
      ],
      "outputs": [
        {
          "output_type": "display_data",
          "data": {
            "text/plain": "<Figure size 800x600 with 2 Axes>",
            "image/png": "[encoded data removed]"
          },
          "metadata": {}
        }
      ],
      "execution_count": 18,
      "metadata": {
        "jupyter": {
          "source_hidden": false,
          "outputs_hidden": false
        },
        "nteract": {
          "transient": {
            "deleting": false
          }
        },
        "gather": {
          "logged": 1727602321056
        }
      }
    },
    {
      "cell_type": "code",
      "source": [],
      "outputs": [],
      "execution_count": null,
      "metadata": {
        "jupyter": {
          "source_hidden": false,
          "outputs_hidden": false
        },
        "nteract": {
          "transient": {
            "deleting": false
          }
        }
      }
    }
  ],
  "metadata": {
    "kernel_info": {
      "name": "anomalib_env"
    },
    "kernelspec": {
      "name": "anomalib_env",
      "language": "python",
      "display_name": "Python 3.10 - anomalib_env\n"
    },
    "language_info": {
      "name": "python",
      "version": "3.10.14",
      "mimetype": "text/x-python",
      "codemirror_mode": {
        "name": "ipython",
        "version": 3
      },
      "pygments_lexer": "ipython3",
      "nbconvert_exporter": "python",
      "file_extension": ".py"
    },
    "microsoft": {
      "host": {
        "AzureML": {
          "notebookHasBeenCompleted": true
        }
      },
      "ms_spell_check": {
        "ms_spell_check_language": "en"
      }
    },
    "nteract": {
      "version": "nteract-front-end@1.0.0"
    },
    "orig_nbformat": 4,
    "vscode": {
      "interpreter": {
        "hash": "f26beec5b578f06009232863ae217b956681fd13da2e828fa5a0ecf8cf2ccd29"
      }
    }
  },
  "nbformat": 4,
  "nbformat_minor": 2
}